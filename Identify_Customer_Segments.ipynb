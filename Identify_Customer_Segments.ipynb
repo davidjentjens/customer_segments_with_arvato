{
 "cells": [
  {
   "cell_type": "markdown",
   "metadata": {},
   "source": [
    "# Project: Identify Customer Segments\n",
    "\n",
    "In this project, you will apply unsupervised learning techniques to identify segments of the population that form the core customer base for a mail-order sales company in Germany. These segments can then be used to direct marketing campaigns towards audiences that will have the highest expected rate of returns. The data that you will use has been provided by our partners at Bertelsmann Arvato Analytics, and represents a real-life data science task.\n",
    "\n",
    "This notebook will help you complete this task by providing a framework within which you will perform your analysis steps. In each step of the project, you will see some text describing the subtask that you will perform, followed by one or more code cells for you to complete your work. **Feel free to add additional code and markdown cells as you go along so that you can explore everything in precise chunks.** The code cells provided in the base template will outline only the major tasks, and will usually not be enough to cover all of the minor tasks that comprise it.\n",
    "\n",
    "It should be noted that while there will be precise guidelines on how you should handle certain tasks in the project, there will also be places where an exact specification is not provided. **There will be times in the project where you will need to make and justify your own decisions on how to treat the data.** These are places where there may not be only one way to handle the data. In real-life tasks, there may be many valid ways to approach an analysis task. One of the most important things you can do is clearly document your approach so that other scientists can understand the decisions you've made.\n",
    "\n",
    "At the end of most sections, there will be a Markdown cell labeled **Discussion**. In these cells, you will report your findings for the completed section, as well as document the decisions that you made in your approach to each subtask. **Your project will be evaluated not just on the code used to complete the tasks outlined, but also your communication about your observations and conclusions at each stage.**"
   ]
  },
  {
   "cell_type": "code",
   "execution_count": 1,
   "metadata": {},
   "outputs": [
    {
     "data": {
      "text/plain": [
       "'\\nImport note: The classroom currently uses sklearn version 0.19.\\nIf you need to use an imputer, it is available in sklearn.preprocessing.Imputer,\\ninstead of sklearn.impute as in newer versions of sklearn.\\n'"
      ]
     },
     "execution_count": 1,
     "metadata": {},
     "output_type": "execute_result"
    }
   ],
   "source": [
    "# import libraries here; add more as necessary\n",
    "import numpy as np\n",
    "import pandas as pd\n",
    "import matplotlib.pyplot as plt\n",
    "import matplotlib.ticker as mtick\n",
    "import seaborn as sns\n",
    "import sys\n",
    "\n",
    "from sklearn.preprocessing import OneHotEncoder\n",
    "from sklearn.preprocessing import StandardScaler\n",
    "\n",
    "# magic word for producing visualizations in notebook\n",
    "%matplotlib inline\n",
    "\n",
    "'''\n",
    "Import note: The classroom currently uses sklearn version 0.19.\n",
    "If you need to use an imputer, it is available in sklearn.preprocessing.Imputer,\n",
    "instead of sklearn.impute as in newer versions of sklearn.\n",
    "'''"
   ]
  },
  {
   "cell_type": "markdown",
   "metadata": {},
   "source": [
    "### Step 0: Load the Data\n",
    "\n",
    "There are four files associated with this project (not including this one):\n",
    "\n",
    "- `Udacity_AZDIAS_Subset.csv`: Demographics data for the general population of Germany; 891211 persons (rows) x 85 features (columns).\n",
    "- `Udacity_CUSTOMERS_Subset.csv`: Demographics data for customers of a mail-order company; 191652 persons (rows) x 85 features (columns).\n",
    "- `Data_Dictionary.md`: Detailed information file about the features in the provided datasets.\n",
    "- `AZDIAS_Feature_Summary.csv`: Summary of feature attributes for demographics data; 85 features (rows) x 4 columns\n",
    "\n",
    "Each row of the demographics files represents a single person, but also includes information outside of individuals, including information about their household, building, and neighborhood. You will use this information to cluster the general population into groups with similar demographic properties. Then, you will see how the people in the customers dataset fit into those created clusters. The hope here is that certain clusters are over-represented in the customers data, as compared to the general population; those over-represented clusters will be assumed to be part of the core userbase. This information can then be used for further applications, such as targeting for a marketing campaign.\n",
    "\n",
    "To start off with, load in the demographics data for the general population into a pandas DataFrame, and do the same for the feature attributes summary. Note for all of the `.csv` data files in this project: they're semicolon (`;`) delimited, so you'll need an additional argument in your [`read_csv()`](https://pandas.pydata.org/pandas-docs/stable/generated/pandas.read_csv.html) call to read in the data properly. Also, considering the size of the main dataset, it may take some time for it to load completely.\n",
    "\n",
    "Once the dataset is loaded, it's recommended that you take a little bit of time just browsing the general structure of the dataset and feature summary file. You'll be getting deep into the innards of the cleaning in the first major step of the project, so gaining some general familiarity can help you get your bearings."
   ]
  },
  {
   "cell_type": "code",
   "execution_count": 2,
   "metadata": {},
   "outputs": [],
   "source": [
    "# Load in the general demographics data.\n",
    "azdias = pd.read_csv('Udacity_AZDIAS_Subset.csv', delimiter=';')\n",
    "\n",
    "# Load in the feature summary file.\n",
    "feat_info = pd.read_csv('AZDIAS_Feature_Summary.csv', delimiter=';')"
   ]
  },
  {
   "cell_type": "code",
   "execution_count": 3,
   "metadata": {
    "scrolled": true
   },
   "outputs": [
    {
     "data": {
      "text/html": [
       "<div>\n",
       "<style scoped>\n",
       "    .dataframe tbody tr th:only-of-type {\n",
       "        vertical-align: middle;\n",
       "    }\n",
       "\n",
       "    .dataframe tbody tr th {\n",
       "        vertical-align: top;\n",
       "    }\n",
       "\n",
       "    .dataframe thead th {\n",
       "        text-align: right;\n",
       "    }\n",
       "</style>\n",
       "<table border=\"1\" class=\"dataframe\">\n",
       "  <thead>\n",
       "    <tr style=\"text-align: right;\">\n",
       "      <th></th>\n",
       "      <th>AGER_TYP</th>\n",
       "      <th>ALTERSKATEGORIE_GROB</th>\n",
       "      <th>ANREDE_KZ</th>\n",
       "      <th>CJT_GESAMTTYP</th>\n",
       "      <th>FINANZ_MINIMALIST</th>\n",
       "      <th>FINANZ_SPARER</th>\n",
       "      <th>FINANZ_VORSORGER</th>\n",
       "      <th>FINANZ_ANLEGER</th>\n",
       "      <th>FINANZ_UNAUFFAELLIGER</th>\n",
       "      <th>FINANZ_HAUSBAUER</th>\n",
       "      <th>...</th>\n",
       "      <th>PLZ8_ANTG1</th>\n",
       "      <th>PLZ8_ANTG2</th>\n",
       "      <th>PLZ8_ANTG3</th>\n",
       "      <th>PLZ8_ANTG4</th>\n",
       "      <th>PLZ8_BAUMAX</th>\n",
       "      <th>PLZ8_HHZ</th>\n",
       "      <th>PLZ8_GBZ</th>\n",
       "      <th>ARBEIT</th>\n",
       "      <th>ORTSGR_KLS9</th>\n",
       "      <th>RELAT_AB</th>\n",
       "    </tr>\n",
       "  </thead>\n",
       "  <tbody>\n",
       "    <tr>\n",
       "      <th>count</th>\n",
       "      <td>891221.000000</td>\n",
       "      <td>891221.000000</td>\n",
       "      <td>891221.000000</td>\n",
       "      <td>886367.000000</td>\n",
       "      <td>891221.000000</td>\n",
       "      <td>891221.000000</td>\n",
       "      <td>891221.000000</td>\n",
       "      <td>891221.000000</td>\n",
       "      <td>891221.000000</td>\n",
       "      <td>891221.000000</td>\n",
       "      <td>...</td>\n",
       "      <td>774706.000000</td>\n",
       "      <td>774706.000000</td>\n",
       "      <td>774706.000000</td>\n",
       "      <td>774706.000000</td>\n",
       "      <td>774706.000000</td>\n",
       "      <td>774706.000000</td>\n",
       "      <td>774706.000000</td>\n",
       "      <td>794005.000000</td>\n",
       "      <td>794005.000000</td>\n",
       "      <td>794005.00000</td>\n",
       "    </tr>\n",
       "    <tr>\n",
       "      <th>mean</th>\n",
       "      <td>-0.358435</td>\n",
       "      <td>2.777398</td>\n",
       "      <td>1.522098</td>\n",
       "      <td>3.632838</td>\n",
       "      <td>3.074528</td>\n",
       "      <td>2.821039</td>\n",
       "      <td>3.401106</td>\n",
       "      <td>3.033328</td>\n",
       "      <td>2.874167</td>\n",
       "      <td>3.075121</td>\n",
       "      <td>...</td>\n",
       "      <td>2.253330</td>\n",
       "      <td>2.801858</td>\n",
       "      <td>1.595426</td>\n",
       "      <td>0.699166</td>\n",
       "      <td>1.943913</td>\n",
       "      <td>3.612821</td>\n",
       "      <td>3.381087</td>\n",
       "      <td>3.167854</td>\n",
       "      <td>5.293002</td>\n",
       "      <td>3.07222</td>\n",
       "    </tr>\n",
       "    <tr>\n",
       "      <th>std</th>\n",
       "      <td>1.198724</td>\n",
       "      <td>1.068775</td>\n",
       "      <td>0.499512</td>\n",
       "      <td>1.595021</td>\n",
       "      <td>1.321055</td>\n",
       "      <td>1.464749</td>\n",
       "      <td>1.322134</td>\n",
       "      <td>1.529603</td>\n",
       "      <td>1.486731</td>\n",
       "      <td>1.353248</td>\n",
       "      <td>...</td>\n",
       "      <td>0.972008</td>\n",
       "      <td>0.920309</td>\n",
       "      <td>0.986736</td>\n",
       "      <td>0.727137</td>\n",
       "      <td>1.459654</td>\n",
       "      <td>0.973967</td>\n",
       "      <td>1.111598</td>\n",
       "      <td>1.002376</td>\n",
       "      <td>2.303739</td>\n",
       "      <td>1.36298</td>\n",
       "    </tr>\n",
       "    <tr>\n",
       "      <th>min</th>\n",
       "      <td>-1.000000</td>\n",
       "      <td>1.000000</td>\n",
       "      <td>1.000000</td>\n",
       "      <td>1.000000</td>\n",
       "      <td>1.000000</td>\n",
       "      <td>1.000000</td>\n",
       "      <td>1.000000</td>\n",
       "      <td>1.000000</td>\n",
       "      <td>1.000000</td>\n",
       "      <td>1.000000</td>\n",
       "      <td>...</td>\n",
       "      <td>0.000000</td>\n",
       "      <td>0.000000</td>\n",
       "      <td>0.000000</td>\n",
       "      <td>0.000000</td>\n",
       "      <td>1.000000</td>\n",
       "      <td>1.000000</td>\n",
       "      <td>1.000000</td>\n",
       "      <td>1.000000</td>\n",
       "      <td>0.000000</td>\n",
       "      <td>1.00000</td>\n",
       "    </tr>\n",
       "    <tr>\n",
       "      <th>25%</th>\n",
       "      <td>-1.000000</td>\n",
       "      <td>2.000000</td>\n",
       "      <td>1.000000</td>\n",
       "      <td>2.000000</td>\n",
       "      <td>2.000000</td>\n",
       "      <td>1.000000</td>\n",
       "      <td>3.000000</td>\n",
       "      <td>2.000000</td>\n",
       "      <td>2.000000</td>\n",
       "      <td>2.000000</td>\n",
       "      <td>...</td>\n",
       "      <td>1.000000</td>\n",
       "      <td>2.000000</td>\n",
       "      <td>1.000000</td>\n",
       "      <td>0.000000</td>\n",
       "      <td>1.000000</td>\n",
       "      <td>3.000000</td>\n",
       "      <td>3.000000</td>\n",
       "      <td>3.000000</td>\n",
       "      <td>4.000000</td>\n",
       "      <td>2.00000</td>\n",
       "    </tr>\n",
       "    <tr>\n",
       "      <th>50%</th>\n",
       "      <td>-1.000000</td>\n",
       "      <td>3.000000</td>\n",
       "      <td>2.000000</td>\n",
       "      <td>4.000000</td>\n",
       "      <td>3.000000</td>\n",
       "      <td>3.000000</td>\n",
       "      <td>3.000000</td>\n",
       "      <td>3.000000</td>\n",
       "      <td>3.000000</td>\n",
       "      <td>3.000000</td>\n",
       "      <td>...</td>\n",
       "      <td>2.000000</td>\n",
       "      <td>3.000000</td>\n",
       "      <td>2.000000</td>\n",
       "      <td>1.000000</td>\n",
       "      <td>1.000000</td>\n",
       "      <td>4.000000</td>\n",
       "      <td>3.000000</td>\n",
       "      <td>3.000000</td>\n",
       "      <td>5.000000</td>\n",
       "      <td>3.00000</td>\n",
       "    </tr>\n",
       "    <tr>\n",
       "      <th>75%</th>\n",
       "      <td>-1.000000</td>\n",
       "      <td>4.000000</td>\n",
       "      <td>2.000000</td>\n",
       "      <td>5.000000</td>\n",
       "      <td>4.000000</td>\n",
       "      <td>4.000000</td>\n",
       "      <td>5.000000</td>\n",
       "      <td>5.000000</td>\n",
       "      <td>4.000000</td>\n",
       "      <td>4.000000</td>\n",
       "      <td>...</td>\n",
       "      <td>3.000000</td>\n",
       "      <td>3.000000</td>\n",
       "      <td>2.000000</td>\n",
       "      <td>1.000000</td>\n",
       "      <td>3.000000</td>\n",
       "      <td>4.000000</td>\n",
       "      <td>4.000000</td>\n",
       "      <td>4.000000</td>\n",
       "      <td>7.000000</td>\n",
       "      <td>4.00000</td>\n",
       "    </tr>\n",
       "    <tr>\n",
       "      <th>max</th>\n",
       "      <td>3.000000</td>\n",
       "      <td>9.000000</td>\n",
       "      <td>2.000000</td>\n",
       "      <td>6.000000</td>\n",
       "      <td>5.000000</td>\n",
       "      <td>5.000000</td>\n",
       "      <td>5.000000</td>\n",
       "      <td>5.000000</td>\n",
       "      <td>5.000000</td>\n",
       "      <td>5.000000</td>\n",
       "      <td>...</td>\n",
       "      <td>4.000000</td>\n",
       "      <td>4.000000</td>\n",
       "      <td>3.000000</td>\n",
       "      <td>2.000000</td>\n",
       "      <td>5.000000</td>\n",
       "      <td>5.000000</td>\n",
       "      <td>5.000000</td>\n",
       "      <td>9.000000</td>\n",
       "      <td>9.000000</td>\n",
       "      <td>9.00000</td>\n",
       "    </tr>\n",
       "  </tbody>\n",
       "</table>\n",
       "<p>8 rows × 81 columns</p>\n",
       "</div>"
      ],
      "text/plain": [
       "            AGER_TYP  ALTERSKATEGORIE_GROB      ANREDE_KZ  CJT_GESAMTTYP  \\\n",
       "count  891221.000000         891221.000000  891221.000000  886367.000000   \n",
       "mean       -0.358435              2.777398       1.522098       3.632838   \n",
       "std         1.198724              1.068775       0.499512       1.595021   \n",
       "min        -1.000000              1.000000       1.000000       1.000000   \n",
       "25%        -1.000000              2.000000       1.000000       2.000000   \n",
       "50%        -1.000000              3.000000       2.000000       4.000000   \n",
       "75%        -1.000000              4.000000       2.000000       5.000000   \n",
       "max         3.000000              9.000000       2.000000       6.000000   \n",
       "\n",
       "       FINANZ_MINIMALIST  FINANZ_SPARER  FINANZ_VORSORGER  FINANZ_ANLEGER  \\\n",
       "count      891221.000000  891221.000000     891221.000000   891221.000000   \n",
       "mean            3.074528       2.821039          3.401106        3.033328   \n",
       "std             1.321055       1.464749          1.322134        1.529603   \n",
       "min             1.000000       1.000000          1.000000        1.000000   \n",
       "25%             2.000000       1.000000          3.000000        2.000000   \n",
       "50%             3.000000       3.000000          3.000000        3.000000   \n",
       "75%             4.000000       4.000000          5.000000        5.000000   \n",
       "max             5.000000       5.000000          5.000000        5.000000   \n",
       "\n",
       "       FINANZ_UNAUFFAELLIGER  FINANZ_HAUSBAUER  ...     PLZ8_ANTG1  \\\n",
       "count          891221.000000     891221.000000  ...  774706.000000   \n",
       "mean                2.874167          3.075121  ...       2.253330   \n",
       "std                 1.486731          1.353248  ...       0.972008   \n",
       "min                 1.000000          1.000000  ...       0.000000   \n",
       "25%                 2.000000          2.000000  ...       1.000000   \n",
       "50%                 3.000000          3.000000  ...       2.000000   \n",
       "75%                 4.000000          4.000000  ...       3.000000   \n",
       "max                 5.000000          5.000000  ...       4.000000   \n",
       "\n",
       "          PLZ8_ANTG2     PLZ8_ANTG3     PLZ8_ANTG4    PLZ8_BAUMAX  \\\n",
       "count  774706.000000  774706.000000  774706.000000  774706.000000   \n",
       "mean        2.801858       1.595426       0.699166       1.943913   \n",
       "std         0.920309       0.986736       0.727137       1.459654   \n",
       "min         0.000000       0.000000       0.000000       1.000000   \n",
       "25%         2.000000       1.000000       0.000000       1.000000   \n",
       "50%         3.000000       2.000000       1.000000       1.000000   \n",
       "75%         3.000000       2.000000       1.000000       3.000000   \n",
       "max         4.000000       3.000000       2.000000       5.000000   \n",
       "\n",
       "            PLZ8_HHZ       PLZ8_GBZ         ARBEIT    ORTSGR_KLS9  \\\n",
       "count  774706.000000  774706.000000  794005.000000  794005.000000   \n",
       "mean        3.612821       3.381087       3.167854       5.293002   \n",
       "std         0.973967       1.111598       1.002376       2.303739   \n",
       "min         1.000000       1.000000       1.000000       0.000000   \n",
       "25%         3.000000       3.000000       3.000000       4.000000   \n",
       "50%         4.000000       3.000000       3.000000       5.000000   \n",
       "75%         4.000000       4.000000       4.000000       7.000000   \n",
       "max         5.000000       5.000000       9.000000       9.000000   \n",
       "\n",
       "           RELAT_AB  \n",
       "count  794005.00000  \n",
       "mean        3.07222  \n",
       "std         1.36298  \n",
       "min         1.00000  \n",
       "25%         2.00000  \n",
       "50%         3.00000  \n",
       "75%         4.00000  \n",
       "max         9.00000  \n",
       "\n",
       "[8 rows x 81 columns]"
      ]
     },
     "execution_count": 3,
     "metadata": {},
     "output_type": "execute_result"
    }
   ],
   "source": [
    "# Check the structure of the data after it's loaded (e.g. print the number of\n",
    "# rows and columns, print the first few rows).\n",
    "\n",
    "azdias.describe()"
   ]
  },
  {
   "cell_type": "code",
   "execution_count": 4,
   "metadata": {},
   "outputs": [
    {
     "name": "stdout",
     "output_type": "stream",
     "text": [
      "<class 'pandas.core.frame.DataFrame'>\n",
      "RangeIndex: 891221 entries, 0 to 891220\n",
      "Data columns (total 85 columns):\n",
      " #   Column                 Non-Null Count   Dtype  \n",
      "---  ------                 --------------   -----  \n",
      " 0   AGER_TYP               891221 non-null  int64  \n",
      " 1   ALTERSKATEGORIE_GROB   891221 non-null  int64  \n",
      " 2   ANREDE_KZ              891221 non-null  int64  \n",
      " 3   CJT_GESAMTTYP          886367 non-null  float64\n",
      " 4   FINANZ_MINIMALIST      891221 non-null  int64  \n",
      " 5   FINANZ_SPARER          891221 non-null  int64  \n",
      " 6   FINANZ_VORSORGER       891221 non-null  int64  \n",
      " 7   FINANZ_ANLEGER         891221 non-null  int64  \n",
      " 8   FINANZ_UNAUFFAELLIGER  891221 non-null  int64  \n",
      " 9   FINANZ_HAUSBAUER       891221 non-null  int64  \n",
      " 10  FINANZTYP              891221 non-null  int64  \n",
      " 11  GEBURTSJAHR            891221 non-null  int64  \n",
      " 12  GFK_URLAUBERTYP        886367 non-null  float64\n",
      " 13  GREEN_AVANTGARDE       891221 non-null  int64  \n",
      " 14  HEALTH_TYP             891221 non-null  int64  \n",
      " 15  LP_LEBENSPHASE_FEIN    886367 non-null  float64\n",
      " 16  LP_LEBENSPHASE_GROB    886367 non-null  float64\n",
      " 17  LP_FAMILIE_FEIN        886367 non-null  float64\n",
      " 18  LP_FAMILIE_GROB        886367 non-null  float64\n",
      " 19  LP_STATUS_FEIN         886367 non-null  float64\n",
      " 20  LP_STATUS_GROB         886367 non-null  float64\n",
      " 21  NATIONALITAET_KZ       891221 non-null  int64  \n",
      " 22  PRAEGENDE_JUGENDJAHRE  891221 non-null  int64  \n",
      " 23  RETOURTYP_BK_S         886367 non-null  float64\n",
      " 24  SEMIO_SOZ              891221 non-null  int64  \n",
      " 25  SEMIO_FAM              891221 non-null  int64  \n",
      " 26  SEMIO_REL              891221 non-null  int64  \n",
      " 27  SEMIO_MAT              891221 non-null  int64  \n",
      " 28  SEMIO_VERT             891221 non-null  int64  \n",
      " 29  SEMIO_LUST             891221 non-null  int64  \n",
      " 30  SEMIO_ERL              891221 non-null  int64  \n",
      " 31  SEMIO_KULT             891221 non-null  int64  \n",
      " 32  SEMIO_RAT              891221 non-null  int64  \n",
      " 33  SEMIO_KRIT             891221 non-null  int64  \n",
      " 34  SEMIO_DOM              891221 non-null  int64  \n",
      " 35  SEMIO_KAEM             891221 non-null  int64  \n",
      " 36  SEMIO_PFLICHT          891221 non-null  int64  \n",
      " 37  SEMIO_TRADV            891221 non-null  int64  \n",
      " 38  SHOPPER_TYP            891221 non-null  int64  \n",
      " 39  SOHO_KZ                817722 non-null  float64\n",
      " 40  TITEL_KZ               817722 non-null  float64\n",
      " 41  VERS_TYP               891221 non-null  int64  \n",
      " 42  ZABEOTYP               891221 non-null  int64  \n",
      " 43  ALTER_HH               817722 non-null  float64\n",
      " 44  ANZ_PERSONEN           817722 non-null  float64\n",
      " 45  ANZ_TITEL              817722 non-null  float64\n",
      " 46  HH_EINKOMMEN_SCORE     872873 non-null  float64\n",
      " 47  KK_KUNDENTYP           306609 non-null  float64\n",
      " 48  W_KEIT_KIND_HH         783619 non-null  float64\n",
      " 49  WOHNDAUER_2008         817722 non-null  float64\n",
      " 50  ANZ_HAUSHALTE_AKTIV    798073 non-null  float64\n",
      " 51  ANZ_HH_TITEL           794213 non-null  float64\n",
      " 52  GEBAEUDETYP            798073 non-null  float64\n",
      " 53  KONSUMNAEHE            817252 non-null  float64\n",
      " 54  MIN_GEBAEUDEJAHR       798073 non-null  float64\n",
      " 55  OST_WEST_KZ            798073 non-null  object \n",
      " 56  WOHNLAGE               798073 non-null  float64\n",
      " 57  CAMEO_DEUG_2015        792242 non-null  object \n",
      " 58  CAMEO_DEU_2015         792242 non-null  object \n",
      " 59  CAMEO_INTL_2015        792242 non-null  object \n",
      " 60  KBA05_ANTG1            757897 non-null  float64\n",
      " 61  KBA05_ANTG2            757897 non-null  float64\n",
      " 62  KBA05_ANTG3            757897 non-null  float64\n",
      " 63  KBA05_ANTG4            757897 non-null  float64\n",
      " 64  KBA05_BAUMAX           757897 non-null  float64\n",
      " 65  KBA05_GBZ              757897 non-null  float64\n",
      " 66  BALLRAUM               797481 non-null  float64\n",
      " 67  EWDICHTE               797481 non-null  float64\n",
      " 68  INNENSTADT             797481 non-null  float64\n",
      " 69  GEBAEUDETYP_RASTER     798066 non-null  float64\n",
      " 70  KKK                    770025 non-null  float64\n",
      " 71  MOBI_REGIO             757897 non-null  float64\n",
      " 72  ONLINE_AFFINITAET      886367 non-null  float64\n",
      " 73  REGIOTYP               770025 non-null  float64\n",
      " 74  KBA13_ANZAHL_PKW       785421 non-null  float64\n",
      " 75  PLZ8_ANTG1             774706 non-null  float64\n",
      " 76  PLZ8_ANTG2             774706 non-null  float64\n",
      " 77  PLZ8_ANTG3             774706 non-null  float64\n",
      " 78  PLZ8_ANTG4             774706 non-null  float64\n",
      " 79  PLZ8_BAUMAX            774706 non-null  float64\n",
      " 80  PLZ8_HHZ               774706 non-null  float64\n",
      " 81  PLZ8_GBZ               774706 non-null  float64\n",
      " 82  ARBEIT                 794005 non-null  float64\n",
      " 83  ORTSGR_KLS9            794005 non-null  float64\n",
      " 84  RELAT_AB               794005 non-null  float64\n",
      "dtypes: float64(49), int64(32), object(4)\n",
      "memory usage: 578.0+ MB\n"
     ]
    }
   ],
   "source": [
    "azdias.info()"
   ]
  },
  {
   "cell_type": "code",
   "execution_count": 5,
   "metadata": {},
   "outputs": [
    {
     "data": {
      "text/html": [
       "<div>\n",
       "<style scoped>\n",
       "    .dataframe tbody tr th:only-of-type {\n",
       "        vertical-align: middle;\n",
       "    }\n",
       "\n",
       "    .dataframe tbody tr th {\n",
       "        vertical-align: top;\n",
       "    }\n",
       "\n",
       "    .dataframe thead th {\n",
       "        text-align: right;\n",
       "    }\n",
       "</style>\n",
       "<table border=\"1\" class=\"dataframe\">\n",
       "  <thead>\n",
       "    <tr style=\"text-align: right;\">\n",
       "      <th></th>\n",
       "      <th>AGER_TYP</th>\n",
       "      <th>ALTERSKATEGORIE_GROB</th>\n",
       "      <th>ANREDE_KZ</th>\n",
       "      <th>CJT_GESAMTTYP</th>\n",
       "      <th>FINANZ_MINIMALIST</th>\n",
       "      <th>FINANZ_SPARER</th>\n",
       "      <th>FINANZ_VORSORGER</th>\n",
       "      <th>FINANZ_ANLEGER</th>\n",
       "      <th>FINANZ_UNAUFFAELLIGER</th>\n",
       "      <th>FINANZ_HAUSBAUER</th>\n",
       "      <th>...</th>\n",
       "      <th>PLZ8_ANTG1</th>\n",
       "      <th>PLZ8_ANTG2</th>\n",
       "      <th>PLZ8_ANTG3</th>\n",
       "      <th>PLZ8_ANTG4</th>\n",
       "      <th>PLZ8_BAUMAX</th>\n",
       "      <th>PLZ8_HHZ</th>\n",
       "      <th>PLZ8_GBZ</th>\n",
       "      <th>ARBEIT</th>\n",
       "      <th>ORTSGR_KLS9</th>\n",
       "      <th>RELAT_AB</th>\n",
       "    </tr>\n",
       "  </thead>\n",
       "  <tbody>\n",
       "    <tr>\n",
       "      <th>0</th>\n",
       "      <td>-1</td>\n",
       "      <td>2</td>\n",
       "      <td>1</td>\n",
       "      <td>2.0</td>\n",
       "      <td>3</td>\n",
       "      <td>4</td>\n",
       "      <td>3</td>\n",
       "      <td>5</td>\n",
       "      <td>5</td>\n",
       "      <td>3</td>\n",
       "      <td>...</td>\n",
       "      <td>NaN</td>\n",
       "      <td>NaN</td>\n",
       "      <td>NaN</td>\n",
       "      <td>NaN</td>\n",
       "      <td>NaN</td>\n",
       "      <td>NaN</td>\n",
       "      <td>NaN</td>\n",
       "      <td>NaN</td>\n",
       "      <td>NaN</td>\n",
       "      <td>NaN</td>\n",
       "    </tr>\n",
       "    <tr>\n",
       "      <th>1</th>\n",
       "      <td>-1</td>\n",
       "      <td>1</td>\n",
       "      <td>2</td>\n",
       "      <td>5.0</td>\n",
       "      <td>1</td>\n",
       "      <td>5</td>\n",
       "      <td>2</td>\n",
       "      <td>5</td>\n",
       "      <td>4</td>\n",
       "      <td>5</td>\n",
       "      <td>...</td>\n",
       "      <td>2.0</td>\n",
       "      <td>3.0</td>\n",
       "      <td>2.0</td>\n",
       "      <td>1.0</td>\n",
       "      <td>1.0</td>\n",
       "      <td>5.0</td>\n",
       "      <td>4.0</td>\n",
       "      <td>3.0</td>\n",
       "      <td>5.0</td>\n",
       "      <td>4.0</td>\n",
       "    </tr>\n",
       "    <tr>\n",
       "      <th>2</th>\n",
       "      <td>-1</td>\n",
       "      <td>3</td>\n",
       "      <td>2</td>\n",
       "      <td>3.0</td>\n",
       "      <td>1</td>\n",
       "      <td>4</td>\n",
       "      <td>1</td>\n",
       "      <td>2</td>\n",
       "      <td>3</td>\n",
       "      <td>5</td>\n",
       "      <td>...</td>\n",
       "      <td>3.0</td>\n",
       "      <td>3.0</td>\n",
       "      <td>1.0</td>\n",
       "      <td>0.0</td>\n",
       "      <td>1.0</td>\n",
       "      <td>4.0</td>\n",
       "      <td>4.0</td>\n",
       "      <td>3.0</td>\n",
       "      <td>5.0</td>\n",
       "      <td>2.0</td>\n",
       "    </tr>\n",
       "    <tr>\n",
       "      <th>3</th>\n",
       "      <td>2</td>\n",
       "      <td>4</td>\n",
       "      <td>2</td>\n",
       "      <td>2.0</td>\n",
       "      <td>4</td>\n",
       "      <td>2</td>\n",
       "      <td>5</td>\n",
       "      <td>2</td>\n",
       "      <td>1</td>\n",
       "      <td>2</td>\n",
       "      <td>...</td>\n",
       "      <td>2.0</td>\n",
       "      <td>2.0</td>\n",
       "      <td>2.0</td>\n",
       "      <td>0.0</td>\n",
       "      <td>1.0</td>\n",
       "      <td>3.0</td>\n",
       "      <td>4.0</td>\n",
       "      <td>2.0</td>\n",
       "      <td>3.0</td>\n",
       "      <td>3.0</td>\n",
       "    </tr>\n",
       "    <tr>\n",
       "      <th>4</th>\n",
       "      <td>-1</td>\n",
       "      <td>3</td>\n",
       "      <td>1</td>\n",
       "      <td>5.0</td>\n",
       "      <td>4</td>\n",
       "      <td>3</td>\n",
       "      <td>4</td>\n",
       "      <td>1</td>\n",
       "      <td>3</td>\n",
       "      <td>2</td>\n",
       "      <td>...</td>\n",
       "      <td>2.0</td>\n",
       "      <td>4.0</td>\n",
       "      <td>2.0</td>\n",
       "      <td>1.0</td>\n",
       "      <td>2.0</td>\n",
       "      <td>3.0</td>\n",
       "      <td>3.0</td>\n",
       "      <td>4.0</td>\n",
       "      <td>6.0</td>\n",
       "      <td>5.0</td>\n",
       "    </tr>\n",
       "  </tbody>\n",
       "</table>\n",
       "<p>5 rows × 85 columns</p>\n",
       "</div>"
      ],
      "text/plain": [
       "   AGER_TYP  ALTERSKATEGORIE_GROB  ANREDE_KZ  CJT_GESAMTTYP  \\\n",
       "0        -1                     2          1            2.0   \n",
       "1        -1                     1          2            5.0   \n",
       "2        -1                     3          2            3.0   \n",
       "3         2                     4          2            2.0   \n",
       "4        -1                     3          1            5.0   \n",
       "\n",
       "   FINANZ_MINIMALIST  FINANZ_SPARER  FINANZ_VORSORGER  FINANZ_ANLEGER  \\\n",
       "0                  3              4                 3               5   \n",
       "1                  1              5                 2               5   \n",
       "2                  1              4                 1               2   \n",
       "3                  4              2                 5               2   \n",
       "4                  4              3                 4               1   \n",
       "\n",
       "   FINANZ_UNAUFFAELLIGER  FINANZ_HAUSBAUER  ...  PLZ8_ANTG1  PLZ8_ANTG2  \\\n",
       "0                      5                 3  ...         NaN         NaN   \n",
       "1                      4                 5  ...         2.0         3.0   \n",
       "2                      3                 5  ...         3.0         3.0   \n",
       "3                      1                 2  ...         2.0         2.0   \n",
       "4                      3                 2  ...         2.0         4.0   \n",
       "\n",
       "   PLZ8_ANTG3  PLZ8_ANTG4  PLZ8_BAUMAX  PLZ8_HHZ  PLZ8_GBZ  ARBEIT  \\\n",
       "0         NaN         NaN          NaN       NaN       NaN     NaN   \n",
       "1         2.0         1.0          1.0       5.0       4.0     3.0   \n",
       "2         1.0         0.0          1.0       4.0       4.0     3.0   \n",
       "3         2.0         0.0          1.0       3.0       4.0     2.0   \n",
       "4         2.0         1.0          2.0       3.0       3.0     4.0   \n",
       "\n",
       "   ORTSGR_KLS9  RELAT_AB  \n",
       "0          NaN       NaN  \n",
       "1          5.0       4.0  \n",
       "2          5.0       2.0  \n",
       "3          3.0       3.0  \n",
       "4          6.0       5.0  \n",
       "\n",
       "[5 rows x 85 columns]"
      ]
     },
     "execution_count": 5,
     "metadata": {},
     "output_type": "execute_result"
    }
   ],
   "source": [
    "azdias.head()"
   ]
  },
  {
   "cell_type": "code",
   "execution_count": 6,
   "metadata": {},
   "outputs": [
    {
     "data": {
      "text/html": [
       "<div>\n",
       "<style scoped>\n",
       "    .dataframe tbody tr th:only-of-type {\n",
       "        vertical-align: middle;\n",
       "    }\n",
       "\n",
       "    .dataframe tbody tr th {\n",
       "        vertical-align: top;\n",
       "    }\n",
       "\n",
       "    .dataframe thead th {\n",
       "        text-align: right;\n",
       "    }\n",
       "</style>\n",
       "<table border=\"1\" class=\"dataframe\">\n",
       "  <thead>\n",
       "    <tr style=\"text-align: right;\">\n",
       "      <th></th>\n",
       "      <th>attribute</th>\n",
       "      <th>information_level</th>\n",
       "      <th>type</th>\n",
       "      <th>missing_or_unknown</th>\n",
       "    </tr>\n",
       "  </thead>\n",
       "  <tbody>\n",
       "    <tr>\n",
       "      <th>count</th>\n",
       "      <td>85</td>\n",
       "      <td>85</td>\n",
       "      <td>85</td>\n",
       "      <td>85</td>\n",
       "    </tr>\n",
       "    <tr>\n",
       "      <th>unique</th>\n",
       "      <td>85</td>\n",
       "      <td>9</td>\n",
       "      <td>5</td>\n",
       "      <td>9</td>\n",
       "    </tr>\n",
       "    <tr>\n",
       "      <th>top</th>\n",
       "      <td>ZABEOTYP</td>\n",
       "      <td>person</td>\n",
       "      <td>ordinal</td>\n",
       "      <td>[-1]</td>\n",
       "    </tr>\n",
       "    <tr>\n",
       "      <th>freq</th>\n",
       "      <td>1</td>\n",
       "      <td>43</td>\n",
       "      <td>49</td>\n",
       "      <td>26</td>\n",
       "    </tr>\n",
       "  </tbody>\n",
       "</table>\n",
       "</div>"
      ],
      "text/plain": [
       "       attribute information_level     type missing_or_unknown\n",
       "count         85                85       85                 85\n",
       "unique        85                 9        5                  9\n",
       "top     ZABEOTYP            person  ordinal               [-1]\n",
       "freq           1                43       49                 26"
      ]
     },
     "execution_count": 6,
     "metadata": {},
     "output_type": "execute_result"
    }
   ],
   "source": [
    "feat_info.describe()"
   ]
  },
  {
   "cell_type": "code",
   "execution_count": 7,
   "metadata": {},
   "outputs": [
    {
     "name": "stdout",
     "output_type": "stream",
     "text": [
      "<class 'pandas.core.frame.DataFrame'>\n",
      "RangeIndex: 85 entries, 0 to 84\n",
      "Data columns (total 4 columns):\n",
      " #   Column              Non-Null Count  Dtype \n",
      "---  ------              --------------  ----- \n",
      " 0   attribute           85 non-null     object\n",
      " 1   information_level   85 non-null     object\n",
      " 2   type                85 non-null     object\n",
      " 3   missing_or_unknown  85 non-null     object\n",
      "dtypes: object(4)\n",
      "memory usage: 2.8+ KB\n"
     ]
    }
   ],
   "source": [
    "feat_info.info()"
   ]
  },
  {
   "cell_type": "code",
   "execution_count": 8,
   "metadata": {
    "scrolled": false
   },
   "outputs": [
    {
     "name": "stdout",
     "output_type": "stream",
     "text": [
      "                attribute information_level         type missing_or_unknown\n",
      "0                AGER_TYP            person  categorical             [-1,0]\n",
      "1    ALTERSKATEGORIE_GROB            person      ordinal           [-1,0,9]\n",
      "2               ANREDE_KZ            person  categorical             [-1,0]\n",
      "3           CJT_GESAMTTYP            person  categorical                [0]\n",
      "4       FINANZ_MINIMALIST            person      ordinal               [-1]\n",
      "5           FINANZ_SPARER            person      ordinal               [-1]\n",
      "6        FINANZ_VORSORGER            person      ordinal               [-1]\n",
      "7          FINANZ_ANLEGER            person      ordinal               [-1]\n",
      "8   FINANZ_UNAUFFAELLIGER            person      ordinal               [-1]\n",
      "9        FINANZ_HAUSBAUER            person      ordinal               [-1]\n",
      "10              FINANZTYP            person  categorical               [-1]\n",
      "11            GEBURTSJAHR            person      numeric                [0]\n",
      "12        GFK_URLAUBERTYP            person  categorical                 []\n",
      "13       GREEN_AVANTGARDE            person  categorical                 []\n",
      "14             HEALTH_TYP            person      ordinal             [-1,0]\n"
     ]
    }
   ],
   "source": [
    "with pd.option_context('display.max_rows', None, 'display.max_columns', None):\n",
    "    print(feat_info.head(15))"
   ]
  },
  {
   "cell_type": "markdown",
   "metadata": {},
   "source": [
    "> **Tip**: Add additional cells to keep everything in reasonably-sized chunks! Keyboard shortcut `esc --> a` (press escape to enter command mode, then press the 'A' key) adds a new cell before the active cell, and `esc --> b` adds a new cell after the active cell. If you need to convert an active cell to a markdown cell, use `esc --> m` and to convert to a code cell, use `esc --> y`. \n",
    "\n",
    "## Step 1: Preprocessing\n",
    "\n",
    "### Step 1.1: Assess Missing Data\n",
    "\n",
    "The feature summary file contains a summary of properties for each demographics data column. You will use this file to help you make cleaning decisions during this stage of the project. First of all, you should assess the demographics data in terms of missing data. Pay attention to the following points as you perform your analysis, and take notes on what you observe. Make sure that you fill in the **Discussion** cell with your findings and decisions at the end of each step that has one!\n",
    "\n",
    "#### Step 1.1.1: Convert Missing Value Codes to NaNs\n",
    "The fourth column of the feature attributes summary (loaded in above as `feat_info`) documents the codes from the data dictionary that indicate missing or unknown data. While the file encodes this as a list (e.g. `[-1,0]`), this will get read in as a string object. You'll need to do a little bit of parsing to make use of it to identify and clean the data. Convert data that matches a 'missing' or 'unknown' value code into a numpy NaN value. You might want to see how much data takes on a 'missing' or 'unknown' code, and how much data is naturally missing, as a point of interest.\n",
    "\n",
    "**As one more reminder, you are encouraged to add additional cells to break up your analysis into manageable chunks.**"
   ]
  },
  {
   "cell_type": "code",
   "execution_count": 9,
   "metadata": {
    "scrolled": false
   },
   "outputs": [
    {
     "data": {
      "text/plain": [
       "0      [-1,0]\n",
       "1    [-1,0,9]\n",
       "2      [-1,0]\n",
       "3         [0]\n",
       "4        [-1]\n",
       "Name: missing_or_unknown, dtype: object"
      ]
     },
     "execution_count": 9,
     "metadata": {},
     "output_type": "execute_result"
    }
   ],
   "source": [
    "feat_info['missing_or_unknown'].head()"
   ]
  },
  {
   "cell_type": "code",
   "execution_count": 10,
   "metadata": {
    "scrolled": false
   },
   "outputs": [
    {
     "name": "stdout",
     "output_type": "stream",
     "text": [
      "[-1, 0] [-1, 'X'] ['XX'] [-1, 9]\n"
     ]
    }
   ],
   "source": [
    "# Identify missing or unknown data values and convert them to NaNs.\n",
    "\n",
    "# Creating a list of lists of missing or unknown value codes for every column.\n",
    "nan_values_by_column = []\n",
    "\n",
    "for missing_values in feat_info['missing_or_unknown']:\n",
    "    missing_values = missing_values.replace('[', '').replace(']', '')\n",
    "    missing_values = missing_values.split(',')\n",
    "    \n",
    "    if(missing_values[0] == ''):\n",
    "        missing_values = []\n",
    "        \n",
    "    for i in range(len(missing_values)):\n",
    "        value = missing_values[i]\n",
    "        \n",
    "        if(value == 'X' or value == 'XX'):\n",
    "            missing_values[i] = value\n",
    "            continue;\n",
    "            \n",
    "        missing_values[i] = int(value)\n",
    "            \n",
    "    nan_values_by_column.append(missing_values)\n",
    "\n",
    "print(nan_values_by_column[0], nan_values_by_column[57], nan_values_by_column[58], nan_values_by_column[84])"
   ]
  },
  {
   "cell_type": "code",
   "execution_count": 11,
   "metadata": {
    "scrolled": true
   },
   "outputs": [
    {
     "name": "stdout",
     "output_type": "stream",
     "text": [
      "Nan replacement progress: [------------------------------------------------------------------------------------- ]\n"
     ]
    }
   ],
   "source": [
    "# Code for a progress bar\n",
    "toolbar_width = azdias.shape[1]\n",
    "sys.stdout.write(\"Nan replacement progress: \")\n",
    "sys.stdout.write(\"[%s]\" % (\" \"))\n",
    "sys.stdout.flush()\n",
    "sys.stdout.write(\"\\b\" * (toolbar_width+1)) # return to start of line, after '['\n",
    "\n",
    "# Applying said list to replace those values with a NaN value.\n",
    "for column_name in azdias:\n",
    "    sys.stdout.write(\"-\")\n",
    "    sys.stdout.flush()\n",
    "    column_index = (azdias.columns.get_loc(column_name))\n",
    "    column = azdias[column_name]\n",
    "    \n",
    "    if(len(nan_values_by_column[column_index]) == 0):\n",
    "        continue;\n",
    "        \n",
    "    azdias[column_name] = azdias[column_name].replace(nan_values_by_column[column_index], np.nan)\n",
    "            \n",
    "# End progress bar\n",
    "sys.stdout.write(\" ]\\n\")"
   ]
  },
  {
   "cell_type": "markdown",
   "metadata": {},
   "source": [
    "#### Step 1.1.2: Assess Missing Data in Each Column\n",
    "\n",
    "How much missing data is present in each column? There are a few columns that are outliers in terms of the proportion of values that are missing. You will want to use matplotlib's [`hist()`](https://matplotlib.org/api/_as_gen/matplotlib.pyplot.hist.html) function to visualize the distribution of missing value counts to find these columns. Identify and document these columns. While some of these columns might have justifications for keeping or re-encoding the data, for this project you should just remove them from the dataframe. (Feel free to make remarks about these outlier columns in the discussion, however!)\n",
    "\n",
    "For the remaining features, are there any patterns in which columns have, or share, missing data?"
   ]
  },
  {
   "cell_type": "code",
   "execution_count": 12,
   "metadata": {},
   "outputs": [
    {
     "data": {
      "text/plain": [
       "AGER_TYP                 76.955435\n",
       "ALTERSKATEGORIE_GROB      0.323264\n",
       "ANREDE_KZ                      NaN\n",
       "CJT_GESAMTTYP             0.544646\n",
       "FINANZ_MINIMALIST              NaN\n",
       "FINANZ_SPARER                  NaN\n",
       "FINANZ_VORSORGER               NaN\n",
       "FINANZ_ANLEGER                 NaN\n",
       "FINANZ_UNAUFFAELLIGER          NaN\n",
       "FINANZ_HAUSBAUER               NaN\n",
       "FINANZTYP                      NaN\n",
       "GEBURTSJAHR              44.020282\n",
       "GFK_URLAUBERTYP           0.544646\n",
       "GREEN_AVANTGARDE               NaN\n",
       "HEALTH_TYP               12.476816\n",
       "LP_LEBENSPHASE_FEIN      10.954859\n",
       "LP_LEBENSPHASE_GROB      10.611509\n",
       "LP_FAMILIE_FEIN           8.728699\n",
       "LP_FAMILIE_GROB           8.728699\n",
       "LP_STATUS_FEIN            0.544646\n",
       "Name: True, dtype: float64"
      ]
     },
     "execution_count": 12,
     "metadata": {},
     "output_type": "execute_result"
    }
   ],
   "source": [
    "# Perform an assessment of how much missing data there is in each column of the\n",
    "# dataset.\n",
    "\n",
    "vc_nulls = azdias.apply(lambda x: x.isnull().value_counts() * 100/azdias.shape[0]).T[True]\n",
    "vc_nulls.head(20)"
   ]
  },
  {
   "cell_type": "code",
   "execution_count": 13,
   "metadata": {},
   "outputs": [],
   "source": [
    "vc_nulls_sorted = vc_nulls.sort_values(na_position='first')\n",
    "\n",
    "i = 0\n",
    "\n",
    "custom_palette = {}\n",
    "for index, val in vc_nulls_sorted.iteritems():\n",
    "    \n",
    "    information_level = feat_info.at[i, 'information_level']\n",
    "        \n",
    "    if(information_level == 'person'):\n",
    "        custom_palette[index] = 'red'\n",
    "    elif(information_level == 'household'):\n",
    "        custom_palette[index] = 'green'\n",
    "    elif(information_level == 'building'):\n",
    "        custom_palette[index] = 'yellow'\n",
    "    elif(information_level == 'microcell_rr4'):\n",
    "        custom_palette[index] = 'blue'\n",
    "    elif(information_level == 'microcell_rr3'):\n",
    "        custom_palette[index] = 'orange'\n",
    "    elif(information_level == 'postcode'):\n",
    "        custom_palette[index] = 'purple'\n",
    "    elif(information_level == 'region_rr1'):\n",
    "        custom_palette[index] = 'pink'\n",
    "    elif(information_level == 'macrocell_plz8'):\n",
    "        custom_palette[index] = 'cyan'\n",
    "    elif(information_level == 'community'):\n",
    "        custom_palette[index] = 'brown'\n",
    "    else:\n",
    "        custom_palette[index] = 'black'\n",
    "        \n",
    "    i += 1"
   ]
  },
  {
   "cell_type": "code",
   "execution_count": 14,
   "metadata": {
    "scrolled": false
   },
   "outputs": [
    {
     "data": {
      "image/png": "[encoded data removed]",
      "text/plain": [
       "<Figure size 1080x1440 with 1 Axes>"
      ]
     },
     "metadata": {
      "needs_background": "light"
     },
     "output_type": "display_data"
    }
   ],
   "source": [
    "# Investigate patterns in the amount of missing data in each column.\n",
    "\n",
    "plt.figure(figsize=(15, 20))\n",
    "sns.barplot(x=vc_nulls_sorted.values, y=vc_nulls_sorted.index, palette=custom_palette).set_title('Percentage of NaN values by column');"
   ]
  },
  {
   "cell_type": "code",
   "execution_count": 15,
   "metadata": {},
   "outputs": [],
   "source": [
    "# Remove the outlier columns from the dataset. (You'll perform other data\n",
    "# engineering tasks such as re-encoding and imputation later.)\n",
    "\n",
    "azdias_reduced_columns = azdias.loc[:, azdias.isnull().mean() < .20]"
   ]
  },
  {
   "cell_type": "code",
   "execution_count": 16,
   "metadata": {},
   "outputs": [],
   "source": [
    "vc_nulls = azdias_reduced_columns.apply(lambda x: x.isnull().value_counts() * 100/azdias.shape[0]).T[True]"
   ]
  },
  {
   "cell_type": "code",
   "execution_count": 17,
   "metadata": {},
   "outputs": [],
   "source": [
    "vc_nulls_sorted = vc_nulls.sort_values(na_position='first')\n",
    "\n",
    "i = 0\n",
    "\n",
    "custom_palette = {}\n",
    "for index, val in vc_nulls_sorted.iteritems():\n",
    "    \n",
    "    information_level = feat_info.at[i, 'information_level']\n",
    "        \n",
    "    if(information_level == 'person'):\n",
    "        custom_palette[index] = 'red'\n",
    "    elif(information_level == 'household'):\n",
    "        custom_palette[index] = 'green'\n",
    "    elif(information_level == 'building'):\n",
    "        custom_palette[index] = 'yellow'\n",
    "    elif(information_level == 'microcell_rr4'):\n",
    "        custom_palette[index] = 'blue'\n",
    "    elif(information_level == 'microcell_rr3'):\n",
    "        custom_palette[index] = 'orange'\n",
    "    elif(information_level == 'postcode'):\n",
    "        custom_palette[index] = 'purple'\n",
    "    elif(information_level == 'region_rr1'):\n",
    "        custom_palette[index] = 'pink'\n",
    "    elif(information_level == 'macrocell_plz8'):\n",
    "        custom_palette[index] = 'cyan'\n",
    "    elif(information_level == 'community'):\n",
    "        custom_palette[index] = 'brown'\n",
    "    else:\n",
    "        custom_palette[index] = 'black'\n",
    "        \n",
    "    i += 1"
   ]
  },
  {
   "cell_type": "code",
   "execution_count": 18,
   "metadata": {
    "scrolled": false
   },
   "outputs": [
    {
     "data": {
      "image/png": "[encoded data removed]",
      "text/plain": [
       "<Figure size 1080x1440 with 1 Axes>"
      ]
     },
     "metadata": {
      "needs_background": "light"
     },
     "output_type": "display_data"
    }
   ],
   "source": [
    "vc_nulls_sorted = vc_nulls.sort_values(na_position='first')\n",
    "\n",
    "plt.figure(figsize=(15, 20));\n",
    "sns.barplot(x=vc_nulls_sorted.values, y=vc_nulls_sorted.index, palette=custom_palette).set_title('Percentage of NaN values by column with reduced columns');"
   ]
  },
  {
   "cell_type": "markdown",
   "metadata": {},
   "source": [
    "#### Discussion 1.1.2: Assess Missing Data in Each Column\n",
    "\n",
    "After analysing the data, I plotted a graph to show the percentage of missing values by each individual column. In my observations, the features that had to do with community data had a overwhelming amount of missing values, with one reaching as high as 99%. For some macro-cell features, there were also some outlier attributes. What I then observed is that columns with percentages of missing values above 20% tended to be abnormaly high.\n",
    "\n",
    "For this reason, I decided upon a threshold of acceptance for NaN value percentages of 20%. This means that any column with values above 20% of NaN values were removed from the dataset, as demonstrated by the graph above.\n",
    "\n",
    "Another observation is that by plotting the missing data proportions with a class indicating which information_level the given column belongs to, it can be seen that the information levels macrocell_plz8 and community, which describe more regional data, tend to have considerably more missing values."
   ]
  },
  {
   "cell_type": "markdown",
   "metadata": {},
   "source": [
    "#### Step 1.1.3: Assess Missing Data in Each Row\n",
    "\n",
    "Now, you'll perform a similar assessment for the rows of the dataset. How much data is missing in each row? As with the columns, you should see some groups of points that have very different numbers of missing values. Divide the data into two subsets: one for data points that are above some threshold for missing values, and a second subset for points below that threshold.\n",
    "\n",
    "In order to know what to do with the outlier rows, we should see if the distribution of data values on columns that are not missing data (or are missing very little data) are similar or different between the two groups. Select at least five of these columns and compare the distribution of values.\n",
    "- You can use seaborn's [`countplot()`](https://seaborn.pydata.org/generated/seaborn.countplot.html) function to create a bar chart of code frequencies and matplotlib's [`subplot()`](https://matplotlib.org/api/_as_gen/matplotlib.pyplot.subplot.html) function to put bar charts for the two subplots side by side.\n",
    "- To reduce repeated code, you might want to write a function that can perform this comparison, taking as one of its arguments a column to be compared.\n",
    "\n",
    "Depending on what you observe in your comparison, this will have implications on how you approach your conclusions later in the analysis. If the distributions of non-missing features look similar between the data with many missing values and the data with few or no missing values, then we could argue that simply dropping those points from the analysis won't present a major issue. On the other hand, if the data with many missing values looks very different from the data with few or no missing values, then we should make a note on those data as special. We'll revisit these data later on. **Either way, you should continue your analysis for now using just the subset of the data with few or no missing values.**"
   ]
  },
  {
   "cell_type": "code",
   "execution_count": 19,
   "metadata": {},
   "outputs": [],
   "source": [
    "# How much data is missing in each row of the dataset?\n",
    "\n",
    "n_columns = azdias_reduced_columns.shape[1]\n",
    "\n",
    "row_nan_percentage = azdias_reduced_columns.apply(lambda x: 1-(x.count()/n_columns), axis=1)"
   ]
  },
  {
   "cell_type": "code",
   "execution_count": 20,
   "metadata": {},
   "outputs": [
    {
     "name": "stdout",
     "output_type": "stream",
     "text": [
      "0         0.544304\n",
      "1         0.000000\n",
      "2         0.000000\n",
      "3         0.088608\n",
      "4         0.000000\n",
      "            ...   \n",
      "891216    0.037975\n",
      "891217    0.050633\n",
      "891218    0.063291\n",
      "891219    0.000000\n",
      "891220    0.000000\n",
      "Length: 891221, dtype: float64\n"
     ]
    }
   ],
   "source": [
    "print(row_nan_percentage)"
   ]
  },
  {
   "cell_type": "code",
   "execution_count": 21,
   "metadata": {},
   "outputs": [
    {
     "name": "stdout",
     "output_type": "stream",
     "text": [
      "0     0.544304\n",
      "3     0.088608\n",
      "11    0.594937\n",
      "12    0.075949\n",
      "13    0.101266\n",
      "dtype: float64 \n",
      "\n",
      "1    0.0\n",
      "2    0.0\n",
      "4    0.0\n",
      "5    0.0\n",
      "6    0.0\n",
      "dtype: float64 \n",
      "\n"
     ]
    }
   ],
   "source": [
    "# Write code to divide the data into two subsets based on the number of missing\n",
    "# values in each row.\n",
    "\n",
    "rows_with_nans = row_nan_percentage.where(row_nan_percentage > 0).dropna()\n",
    "rows_without_nans = row_nan_percentage.where(row_nan_percentage == 0).dropna()\n",
    "\n",
    "print(rows_with_nans.head(), '\\n')\n",
    "print(rows_without_nans.head(), '\\n')"
   ]
  },
  {
   "cell_type": "code",
   "execution_count": 22,
   "metadata": {
    "scrolled": true
   },
   "outputs": [
    {
     "data": {
      "text/html": [
       "<div>\n",
       "<style scoped>\n",
       "    .dataframe tbody tr th:only-of-type {\n",
       "        vertical-align: middle;\n",
       "    }\n",
       "\n",
       "    .dataframe tbody tr th {\n",
       "        vertical-align: top;\n",
       "    }\n",
       "\n",
       "    .dataframe thead th {\n",
       "        text-align: right;\n",
       "    }\n",
       "</style>\n",
       "<table border=\"1\" class=\"dataframe\">\n",
       "  <thead>\n",
       "    <tr style=\"text-align: right;\">\n",
       "      <th></th>\n",
       "      <th>ALTERSKATEGORIE_GROB</th>\n",
       "      <th>ANREDE_KZ</th>\n",
       "      <th>CJT_GESAMTTYP</th>\n",
       "      <th>FINANZ_MINIMALIST</th>\n",
       "      <th>FINANZ_SPARER</th>\n",
       "      <th>FINANZ_VORSORGER</th>\n",
       "      <th>FINANZ_ANLEGER</th>\n",
       "      <th>FINANZ_UNAUFFAELLIGER</th>\n",
       "      <th>FINANZ_HAUSBAUER</th>\n",
       "      <th>FINANZTYP</th>\n",
       "      <th>...</th>\n",
       "      <th>PLZ8_ANTG1</th>\n",
       "      <th>PLZ8_ANTG2</th>\n",
       "      <th>PLZ8_ANTG3</th>\n",
       "      <th>PLZ8_ANTG4</th>\n",
       "      <th>PLZ8_BAUMAX</th>\n",
       "      <th>PLZ8_HHZ</th>\n",
       "      <th>PLZ8_GBZ</th>\n",
       "      <th>ARBEIT</th>\n",
       "      <th>ORTSGR_KLS9</th>\n",
       "      <th>RELAT_AB</th>\n",
       "    </tr>\n",
       "  </thead>\n",
       "  <tbody>\n",
       "    <tr>\n",
       "      <th>0</th>\n",
       "      <td>2.0</td>\n",
       "      <td>1</td>\n",
       "      <td>2.0</td>\n",
       "      <td>3</td>\n",
       "      <td>4</td>\n",
       "      <td>3</td>\n",
       "      <td>5</td>\n",
       "      <td>5</td>\n",
       "      <td>3</td>\n",
       "      <td>4</td>\n",
       "      <td>...</td>\n",
       "      <td>NaN</td>\n",
       "      <td>NaN</td>\n",
       "      <td>NaN</td>\n",
       "      <td>NaN</td>\n",
       "      <td>NaN</td>\n",
       "      <td>NaN</td>\n",
       "      <td>NaN</td>\n",
       "      <td>NaN</td>\n",
       "      <td>NaN</td>\n",
       "      <td>NaN</td>\n",
       "    </tr>\n",
       "    <tr>\n",
       "      <th>3</th>\n",
       "      <td>4.0</td>\n",
       "      <td>2</td>\n",
       "      <td>2.0</td>\n",
       "      <td>4</td>\n",
       "      <td>2</td>\n",
       "      <td>5</td>\n",
       "      <td>2</td>\n",
       "      <td>1</td>\n",
       "      <td>2</td>\n",
       "      <td>6</td>\n",
       "      <td>...</td>\n",
       "      <td>2.0</td>\n",
       "      <td>2.0</td>\n",
       "      <td>2.0</td>\n",
       "      <td>0.0</td>\n",
       "      <td>1.0</td>\n",
       "      <td>3.0</td>\n",
       "      <td>4.0</td>\n",
       "      <td>2.0</td>\n",
       "      <td>3.0</td>\n",
       "      <td>3.0</td>\n",
       "    </tr>\n",
       "    <tr>\n",
       "      <th>11</th>\n",
       "      <td>2.0</td>\n",
       "      <td>1</td>\n",
       "      <td>6.0</td>\n",
       "      <td>3</td>\n",
       "      <td>4</td>\n",
       "      <td>3</td>\n",
       "      <td>5</td>\n",
       "      <td>5</td>\n",
       "      <td>3</td>\n",
       "      <td>4</td>\n",
       "      <td>...</td>\n",
       "      <td>NaN</td>\n",
       "      <td>NaN</td>\n",
       "      <td>NaN</td>\n",
       "      <td>NaN</td>\n",
       "      <td>NaN</td>\n",
       "      <td>NaN</td>\n",
       "      <td>NaN</td>\n",
       "      <td>NaN</td>\n",
       "      <td>NaN</td>\n",
       "      <td>NaN</td>\n",
       "    </tr>\n",
       "    <tr>\n",
       "      <th>12</th>\n",
       "      <td>3.0</td>\n",
       "      <td>1</td>\n",
       "      <td>6.0</td>\n",
       "      <td>5</td>\n",
       "      <td>3</td>\n",
       "      <td>4</td>\n",
       "      <td>2</td>\n",
       "      <td>4</td>\n",
       "      <td>1</td>\n",
       "      <td>3</td>\n",
       "      <td>...</td>\n",
       "      <td>3.0</td>\n",
       "      <td>3.0</td>\n",
       "      <td>1.0</td>\n",
       "      <td>0.0</td>\n",
       "      <td>1.0</td>\n",
       "      <td>5.0</td>\n",
       "      <td>5.0</td>\n",
       "      <td>3.0</td>\n",
       "      <td>6.0</td>\n",
       "      <td>4.0</td>\n",
       "    </tr>\n",
       "    <tr>\n",
       "      <th>13</th>\n",
       "      <td>1.0</td>\n",
       "      <td>2</td>\n",
       "      <td>5.0</td>\n",
       "      <td>1</td>\n",
       "      <td>4</td>\n",
       "      <td>3</td>\n",
       "      <td>5</td>\n",
       "      <td>5</td>\n",
       "      <td>2</td>\n",
       "      <td>1</td>\n",
       "      <td>...</td>\n",
       "      <td>2.0</td>\n",
       "      <td>1.0</td>\n",
       "      <td>1.0</td>\n",
       "      <td>1.0</td>\n",
       "      <td>1.0</td>\n",
       "      <td>3.0</td>\n",
       "      <td>3.0</td>\n",
       "      <td>3.0</td>\n",
       "      <td>6.0</td>\n",
       "      <td>4.0</td>\n",
       "    </tr>\n",
       "  </tbody>\n",
       "</table>\n",
       "<p>5 rows × 79 columns</p>\n",
       "</div>"
      ],
      "text/plain": [
       "    ALTERSKATEGORIE_GROB  ANREDE_KZ  CJT_GESAMTTYP  FINANZ_MINIMALIST  \\\n",
       "0                    2.0          1            2.0                  3   \n",
       "3                    4.0          2            2.0                  4   \n",
       "11                   2.0          1            6.0                  3   \n",
       "12                   3.0          1            6.0                  5   \n",
       "13                   1.0          2            5.0                  1   \n",
       "\n",
       "    FINANZ_SPARER  FINANZ_VORSORGER  FINANZ_ANLEGER  FINANZ_UNAUFFAELLIGER  \\\n",
       "0               4                 3               5                      5   \n",
       "3               2                 5               2                      1   \n",
       "11              4                 3               5                      5   \n",
       "12              3                 4               2                      4   \n",
       "13              4                 3               5                      5   \n",
       "\n",
       "    FINANZ_HAUSBAUER  FINANZTYP  ...  PLZ8_ANTG1  PLZ8_ANTG2  PLZ8_ANTG3  \\\n",
       "0                  3          4  ...         NaN         NaN         NaN   \n",
       "3                  2          6  ...         2.0         2.0         2.0   \n",
       "11                 3          4  ...         NaN         NaN         NaN   \n",
       "12                 1          3  ...         3.0         3.0         1.0   \n",
       "13                 2          1  ...         2.0         1.0         1.0   \n",
       "\n",
       "    PLZ8_ANTG4  PLZ8_BAUMAX  PLZ8_HHZ  PLZ8_GBZ  ARBEIT  ORTSGR_KLS9  RELAT_AB  \n",
       "0          NaN          NaN       NaN       NaN     NaN          NaN       NaN  \n",
       "3          0.0          1.0       3.0       4.0     2.0          3.0       3.0  \n",
       "11         NaN          NaN       NaN       NaN     NaN          NaN       NaN  \n",
       "12         0.0          1.0       5.0       5.0     3.0          6.0       4.0  \n",
       "13         1.0          1.0       3.0       3.0     3.0          6.0       4.0  \n",
       "\n",
       "[5 rows x 79 columns]"
      ]
     },
     "execution_count": 22,
     "metadata": {},
     "output_type": "execute_result"
    }
   ],
   "source": [
    "azdias_with_nans = azdias_reduced_columns.drop(rows_without_nans.index)\n",
    "azdias_with_nans.head()"
   ]
  },
  {
   "cell_type": "code",
   "execution_count": 23,
   "metadata": {},
   "outputs": [
    {
     "data": {
      "text/html": [
       "<div>\n",
       "<style scoped>\n",
       "    .dataframe tbody tr th:only-of-type {\n",
       "        vertical-align: middle;\n",
       "    }\n",
       "\n",
       "    .dataframe tbody tr th {\n",
       "        vertical-align: top;\n",
       "    }\n",
       "\n",
       "    .dataframe thead th {\n",
       "        text-align: right;\n",
       "    }\n",
       "</style>\n",
       "<table border=\"1\" class=\"dataframe\">\n",
       "  <thead>\n",
       "    <tr style=\"text-align: right;\">\n",
       "      <th></th>\n",
       "      <th>ALTERSKATEGORIE_GROB</th>\n",
       "      <th>ANREDE_KZ</th>\n",
       "      <th>CJT_GESAMTTYP</th>\n",
       "      <th>FINANZ_MINIMALIST</th>\n",
       "      <th>FINANZ_SPARER</th>\n",
       "      <th>FINANZ_VORSORGER</th>\n",
       "      <th>FINANZ_ANLEGER</th>\n",
       "      <th>FINANZ_UNAUFFAELLIGER</th>\n",
       "      <th>FINANZ_HAUSBAUER</th>\n",
       "      <th>FINANZTYP</th>\n",
       "      <th>...</th>\n",
       "      <th>PLZ8_ANTG1</th>\n",
       "      <th>PLZ8_ANTG2</th>\n",
       "      <th>PLZ8_ANTG3</th>\n",
       "      <th>PLZ8_ANTG4</th>\n",
       "      <th>PLZ8_BAUMAX</th>\n",
       "      <th>PLZ8_HHZ</th>\n",
       "      <th>PLZ8_GBZ</th>\n",
       "      <th>ARBEIT</th>\n",
       "      <th>ORTSGR_KLS9</th>\n",
       "      <th>RELAT_AB</th>\n",
       "    </tr>\n",
       "  </thead>\n",
       "  <tbody>\n",
       "    <tr>\n",
       "      <th>1</th>\n",
       "      <td>1.0</td>\n",
       "      <td>2</td>\n",
       "      <td>5.0</td>\n",
       "      <td>1</td>\n",
       "      <td>5</td>\n",
       "      <td>2</td>\n",
       "      <td>5</td>\n",
       "      <td>4</td>\n",
       "      <td>5</td>\n",
       "      <td>1</td>\n",
       "      <td>...</td>\n",
       "      <td>2.0</td>\n",
       "      <td>3.0</td>\n",
       "      <td>2.0</td>\n",
       "      <td>1.0</td>\n",
       "      <td>1.0</td>\n",
       "      <td>5.0</td>\n",
       "      <td>4.0</td>\n",
       "      <td>3.0</td>\n",
       "      <td>5.0</td>\n",
       "      <td>4.0</td>\n",
       "    </tr>\n",
       "    <tr>\n",
       "      <th>2</th>\n",
       "      <td>3.0</td>\n",
       "      <td>2</td>\n",
       "      <td>3.0</td>\n",
       "      <td>1</td>\n",
       "      <td>4</td>\n",
       "      <td>1</td>\n",
       "      <td>2</td>\n",
       "      <td>3</td>\n",
       "      <td>5</td>\n",
       "      <td>1</td>\n",
       "      <td>...</td>\n",
       "      <td>3.0</td>\n",
       "      <td>3.0</td>\n",
       "      <td>1.0</td>\n",
       "      <td>0.0</td>\n",
       "      <td>1.0</td>\n",
       "      <td>4.0</td>\n",
       "      <td>4.0</td>\n",
       "      <td>3.0</td>\n",
       "      <td>5.0</td>\n",
       "      <td>2.0</td>\n",
       "    </tr>\n",
       "    <tr>\n",
       "      <th>4</th>\n",
       "      <td>3.0</td>\n",
       "      <td>1</td>\n",
       "      <td>5.0</td>\n",
       "      <td>4</td>\n",
       "      <td>3</td>\n",
       "      <td>4</td>\n",
       "      <td>1</td>\n",
       "      <td>3</td>\n",
       "      <td>2</td>\n",
       "      <td>5</td>\n",
       "      <td>...</td>\n",
       "      <td>2.0</td>\n",
       "      <td>4.0</td>\n",
       "      <td>2.0</td>\n",
       "      <td>1.0</td>\n",
       "      <td>2.0</td>\n",
       "      <td>3.0</td>\n",
       "      <td>3.0</td>\n",
       "      <td>4.0</td>\n",
       "      <td>6.0</td>\n",
       "      <td>5.0</td>\n",
       "    </tr>\n",
       "    <tr>\n",
       "      <th>5</th>\n",
       "      <td>1.0</td>\n",
       "      <td>2</td>\n",
       "      <td>2.0</td>\n",
       "      <td>3</td>\n",
       "      <td>1</td>\n",
       "      <td>5</td>\n",
       "      <td>2</td>\n",
       "      <td>2</td>\n",
       "      <td>5</td>\n",
       "      <td>2</td>\n",
       "      <td>...</td>\n",
       "      <td>2.0</td>\n",
       "      <td>3.0</td>\n",
       "      <td>1.0</td>\n",
       "      <td>1.0</td>\n",
       "      <td>1.0</td>\n",
       "      <td>5.0</td>\n",
       "      <td>5.0</td>\n",
       "      <td>2.0</td>\n",
       "      <td>3.0</td>\n",
       "      <td>3.0</td>\n",
       "    </tr>\n",
       "    <tr>\n",
       "      <th>6</th>\n",
       "      <td>2.0</td>\n",
       "      <td>2</td>\n",
       "      <td>5.0</td>\n",
       "      <td>1</td>\n",
       "      <td>5</td>\n",
       "      <td>1</td>\n",
       "      <td>5</td>\n",
       "      <td>4</td>\n",
       "      <td>3</td>\n",
       "      <td>4</td>\n",
       "      <td>...</td>\n",
       "      <td>3.0</td>\n",
       "      <td>3.0</td>\n",
       "      <td>1.0</td>\n",
       "      <td>0.0</td>\n",
       "      <td>1.0</td>\n",
       "      <td>5.0</td>\n",
       "      <td>5.0</td>\n",
       "      <td>4.0</td>\n",
       "      <td>6.0</td>\n",
       "      <td>3.0</td>\n",
       "    </tr>\n",
       "  </tbody>\n",
       "</table>\n",
       "<p>5 rows × 79 columns</p>\n",
       "</div>"
      ],
      "text/plain": [
       "   ALTERSKATEGORIE_GROB  ANREDE_KZ  CJT_GESAMTTYP  FINANZ_MINIMALIST  \\\n",
       "1                   1.0          2            5.0                  1   \n",
       "2                   3.0          2            3.0                  1   \n",
       "4                   3.0          1            5.0                  4   \n",
       "5                   1.0          2            2.0                  3   \n",
       "6                   2.0          2            5.0                  1   \n",
       "\n",
       "   FINANZ_SPARER  FINANZ_VORSORGER  FINANZ_ANLEGER  FINANZ_UNAUFFAELLIGER  \\\n",
       "1              5                 2               5                      4   \n",
       "2              4                 1               2                      3   \n",
       "4              3                 4               1                      3   \n",
       "5              1                 5               2                      2   \n",
       "6              5                 1               5                      4   \n",
       "\n",
       "   FINANZ_HAUSBAUER  FINANZTYP  ...  PLZ8_ANTG1  PLZ8_ANTG2  PLZ8_ANTG3  \\\n",
       "1                 5          1  ...         2.0         3.0         2.0   \n",
       "2                 5          1  ...         3.0         3.0         1.0   \n",
       "4                 2          5  ...         2.0         4.0         2.0   \n",
       "5                 5          2  ...         2.0         3.0         1.0   \n",
       "6                 3          4  ...         3.0         3.0         1.0   \n",
       "\n",
       "   PLZ8_ANTG4  PLZ8_BAUMAX  PLZ8_HHZ  PLZ8_GBZ  ARBEIT  ORTSGR_KLS9  RELAT_AB  \n",
       "1         1.0          1.0       5.0       4.0     3.0          5.0       4.0  \n",
       "2         0.0          1.0       4.0       4.0     3.0          5.0       2.0  \n",
       "4         1.0          2.0       3.0       3.0     4.0          6.0       5.0  \n",
       "5         1.0          1.0       5.0       5.0     2.0          3.0       3.0  \n",
       "6         0.0          1.0       5.0       5.0     4.0          6.0       3.0  \n",
       "\n",
       "[5 rows x 79 columns]"
      ]
     },
     "execution_count": 23,
     "metadata": {},
     "output_type": "execute_result"
    }
   ],
   "source": [
    "azdias_without_nans = azdias_reduced_columns.drop(rows_with_nans.index)\n",
    "azdias_without_nans.head()"
   ]
  },
  {
   "cell_type": "code",
   "execution_count": 24,
   "metadata": {},
   "outputs": [],
   "source": [
    "# Compare the distribution of values for at least five columns where there are\n",
    "# no or few missing values, between the two subsets.\n",
    "def compare_groups(column):\n",
    "    plt.figure(figsize = [20, 6]) \n",
    "    \n",
    "    plt.subplot(1, 2, 1);\n",
    "    sns.countplot(data=azdias_with_nans, x=column, color='b');\n",
    "    \n",
    "    plt.subplot(1, 2, 2);\n",
    "    sns.countplot(data=azdias_without_nans, x=column, color='b');"
   ]
  },
  {
   "cell_type": "code",
   "execution_count": 25,
   "metadata": {
    "scrolled": false
   },
   "outputs": [
    {
     "data": {
      "image/png": "[encoded data removed]",
      "text/plain": [
       "<Figure size 1440x432 with 2 Axes>"
      ]
     },
     "metadata": {
      "needs_background": "light"
     },
     "output_type": "display_data"
    }
   ],
   "source": [
    "compare_groups('CJT_GESAMTTYP')"
   ]
  },
  {
   "cell_type": "code",
   "execution_count": 26,
   "metadata": {
    "scrolled": true
   },
   "outputs": [
    {
     "data": {
      "image/png": "[encoded data removed]",
      "text/plain": [
       "<Figure size 1440x432 with 2 Axes>"
      ]
     },
     "metadata": {
      "needs_background": "light"
     },
     "output_type": "display_data"
    }
   ],
   "source": [
    "compare_groups('LP_STATUS_GROB')"
   ]
  },
  {
   "cell_type": "code",
   "execution_count": 27,
   "metadata": {
    "scrolled": true
   },
   "outputs": [
    {
     "data": {
      "image/png": "[encoded data removed]",
      "text/plain": [
       "<Figure size 1440x432 with 2 Axes>"
      ]
     },
     "metadata": {
      "needs_background": "light"
     },
     "output_type": "display_data"
    }
   ],
   "source": [
    "compare_groups('ANREDE_KZ')"
   ]
  },
  {
   "cell_type": "code",
   "execution_count": 28,
   "metadata": {
    "scrolled": true
   },
   "outputs": [
    {
     "data": {
      "image/png": "[encoded data removed]",
      "text/plain": [
       "<Figure size 1440x432 with 2 Axes>"
      ]
     },
     "metadata": {
      "needs_background": "light"
     },
     "output_type": "display_data"
    }
   ],
   "source": [
    "compare_groups('ALTERSKATEGORIE_GROB')"
   ]
  },
  {
   "cell_type": "code",
   "execution_count": 29,
   "metadata": {},
   "outputs": [
    {
     "data": {
      "image/png": "[encoded data removed]",
      "text/plain": [
       "<Figure size 1440x432 with 2 Axes>"
      ]
     },
     "metadata": {
      "needs_background": "light"
     },
     "output_type": "display_data"
    }
   ],
   "source": [
    "compare_groups('CJT_GESAMTTYP')"
   ]
  },
  {
   "cell_type": "code",
   "execution_count": 30,
   "metadata": {
    "scrolled": true
   },
   "outputs": [
    {
     "data": {
      "image/png": "[encoded data removed]",
      "text/plain": [
       "<Figure size 1440x432 with 2 Axes>"
      ]
     },
     "metadata": {
      "needs_background": "light"
     },
     "output_type": "display_data"
    }
   ],
   "source": [
    "compare_groups('SEMIO_FAM')"
   ]
  },
  {
   "cell_type": "code",
   "execution_count": 31,
   "metadata": {
    "scrolled": false
   },
   "outputs": [
    {
     "data": {
      "image/png": "[encoded data removed]",
      "text/plain": [
       "<Figure size 1440x432 with 2 Axes>"
      ]
     },
     "metadata": {
      "needs_background": "light"
     },
     "output_type": "display_data"
    }
   ],
   "source": [
    "compare_groups('FINANZTYP')"
   ]
  },
  {
   "cell_type": "markdown",
   "metadata": {},
   "source": [
    "#### Discussion 1.1.3: Assess Missing Data in Each Row\n",
    "\n",
    "For this section, I decided to have a threshold of 0% for missing value proportions. This means I divided rows based on wheter they have missing values or not. Across most columns with very few NaNs, the rows with no missing values showed little difference in the distributions. In a few columns, such as the columns LP_STATUS_GROB, FINANZTYP the distribution was different between both groups, showing that there is in fact some qualitative difference between them.\n",
    "\n",
    "(Double-click this cell and replace this text with your own text, reporting your observations regarding missing data in rows. Are the data with lots of missing values are qualitatively different from data with few or no missing values?)"
   ]
  },
  {
   "cell_type": "markdown",
   "metadata": {},
   "source": [
    "### Step 1.2: Select and Re-Encode Features\n",
    "\n",
    "Checking for missing data isn't the only way in which you can prepare a dataset for analysis. Since the unsupervised learning techniques to be used will only work on data that is encoded numerically, you need to make a few encoding changes or additional assumptions to be able to make progress. In addition, while almost all of the values in the dataset are encoded using numbers, not all of them represent numeric values. Check the third column of the feature summary (`feat_info`) for a summary of types of measurement.\n",
    "- For numeric and interval data, these features can be kept without changes.\n",
    "- Most of the variables in the dataset are ordinal in nature. While ordinal values may technically be non-linear in spacing, make the simplifying assumption that the ordinal variables can be treated as being interval in nature (that is, kept without any changes).\n",
    "- Special handling may be necessary for the remaining two variable types: categorical, and 'mixed'.\n",
    "\n",
    "In the first two parts of this sub-step, you will perform an investigation of the categorical and mixed-type features and make a decision on each of them, whether you will keep, drop, or re-encode each. Then, in the last part, you will create a new data frame with only the selected and engineered columns.\n",
    "\n",
    "Data wrangling is often the trickiest part of the data analysis process, and there's a lot of it to be done here. But stick with it: once you're done with this step, you'll be ready to get to the machine learning parts of the project!"
   ]
  },
  {
   "cell_type": "code",
   "execution_count": 32,
   "metadata": {},
   "outputs": [
    {
     "name": "stdout",
     "output_type": "stream",
     "text": [
      "False\n"
     ]
    }
   ],
   "source": [
    "has_missing = azdias_without_nans.isnull().values.any()\n",
    "print(has_missing)"
   ]
  },
  {
   "cell_type": "code",
   "execution_count": 33,
   "metadata": {},
   "outputs": [
    {
     "data": {
      "text/plain": [
       "(0.0, 85.0)"
      ]
     },
     "execution_count": 33,
     "metadata": {},
     "output_type": "execute_result"
    },
    {
     "data": {
      "image/png": "[encoded data removed]",
      "text/plain": [
       "<Figure size 864x576 with 1 Axes>"
      ]
     },
     "metadata": {
      "needs_background": "light"
     },
     "output_type": "display_data"
    }
   ],
   "source": [
    "# How many features are there of each data type?\n",
    "\n",
    "plt.figure(figsize=(12,8));\n",
    "plt.title('Distribution of Types of features');\n",
    "\n",
    "ax = sns.countplot(data=feat_info, x='type');\n",
    "\n",
    "for p in ax.patches:\n",
    "    x=p.get_bbox().get_points()[:,0]\n",
    "    y=p.get_bbox().get_points()[1,1]\n",
    "    ax.annotate('{:.0f}'.format(y), (x.mean(), y), ha='center', va='bottom')\n",
    "    \n",
    "ax.set_ylim(0, feat_info.shape[0])"
   ]
  },
  {
   "cell_type": "markdown",
   "metadata": {},
   "source": [
    "#### Step 1.2.1: Re-Encode Categorical Features\n",
    "\n",
    "For categorical data, you would ordinarily need to encode the levels as dummy variables. Depending on the number of categories, perform one of the following:\n",
    "- For binary (two-level) categoricals that take numeric values, you can keep them without needing to do anything.\n",
    "- There is one binary variable that takes on non-numeric values. For this one, you need to re-encode the values as numbers or create a dummy variable.\n",
    "- For multi-level categoricals (three or more values), you can choose to encode the values using multiple dummy variables (e.g. via [OneHotEncoder](http://scikit-learn.org/stable/modules/generated/sklearn.preprocessing.OneHotEncoder.html)), or (to keep things straightforward) just drop them from the analysis. As always, document your choices in the Discussion section."
   ]
  },
  {
   "cell_type": "code",
   "execution_count": 34,
   "metadata": {},
   "outputs": [],
   "source": [
    "# Assess categorical variables: which are binary, which are multi-level, and\n",
    "# which one needs to be re-encoded?\n",
    "\n",
    "categorical_attr = feat_info[feat_info['type'] == 'categorical'].attribute;"
   ]
  },
  {
   "cell_type": "code",
   "execution_count": 35,
   "metadata": {},
   "outputs": [
    {
     "data": {
      "text/plain": [
       "0             AGER_TYP\n",
       "2            ANREDE_KZ\n",
       "3        CJT_GESAMTTYP\n",
       "10           FINANZTYP\n",
       "12     GFK_URLAUBERTYP\n",
       "13    GREEN_AVANTGARDE\n",
       "17     LP_FAMILIE_FEIN\n",
       "18     LP_FAMILIE_GROB\n",
       "19      LP_STATUS_FEIN\n",
       "20      LP_STATUS_GROB\n",
       "21    NATIONALITAET_KZ\n",
       "38         SHOPPER_TYP\n",
       "39             SOHO_KZ\n",
       "40            TITEL_KZ\n",
       "41            VERS_TYP\n",
       "42            ZABEOTYP\n",
       "47        KK_KUNDENTYP\n",
       "52         GEBAEUDETYP\n",
       "55         OST_WEST_KZ\n",
       "57     CAMEO_DEUG_2015\n",
       "58      CAMEO_DEU_2015\n",
       "Name: attribute, dtype: object"
      ]
     },
     "execution_count": 35,
     "metadata": {},
     "output_type": "execute_result"
    }
   ],
   "source": [
    "categorical_attr"
   ]
  },
  {
   "cell_type": "code",
   "execution_count": 36,
   "metadata": {},
   "outputs": [],
   "source": [
    "# The variables that I removed due to missing values also need to bee removed from this list.\n",
    "\n",
    "categorical_attr = categorical_attr.drop(labels=[0, 40, 47])"
   ]
  },
  {
   "cell_type": "code",
   "execution_count": 37,
   "metadata": {
    "scrolled": true
   },
   "outputs": [
    {
     "data": {
      "image/png": "[encoded data removed]",
      "text/plain": [
       "<Figure size 1080x576 with 4 Axes>"
      ]
     },
     "metadata": {
      "needs_background": "light"
     },
     "output_type": "display_data"
    },
    {
     "data": {
      "image/png": "[encoded data removed]",
      "text/plain": [
       "<Figure size 1080x576 with 4 Axes>"
      ]
     },
     "metadata": {
      "needs_background": "light"
     },
     "output_type": "display_data"
    },
    {
     "data": {
      "image/png": "[encoded data removed]",
      "text/plain": [
       "<Figure size 1080x576 with 4 Axes>"
      ]
     },
     "metadata": {
      "needs_background": "light"
     },
     "output_type": "display_data"
    },
    {
     "data": {
      "image/png": "[encoded data removed]",
      "text/plain": [
       "<Figure size 1080x576 with 4 Axes>"
      ]
     },
     "metadata": {
      "needs_background": "light"
     },
     "output_type": "display_data"
    },
    {
     "data": {
      "image/png": "[encoded data removed]",
      "text/plain": [
       "<Figure size 1080x576 with 1 Axes>"
      ]
     },
     "metadata": {
      "needs_background": "light"
     },
     "output_type": "display_data"
    }
   ],
   "source": [
    "binary_attr = []\n",
    "multilevel_attr = []\n",
    "\n",
    "for i in range(0, len(categorical_attr)-1):\n",
    "    if((i%4)+1 == 1):\n",
    "        fig = plt.figure(figsize=(15,8))\n",
    "        fig.subplots_adjust(hspace=0.4, wspace=0.4)\n",
    "        \n",
    "    column = categorical_attr.iloc[i]\n",
    "        \n",
    "    if(azdias_without_nans[column].nunique() == 2):\n",
    "        binary_attr.append(column)\n",
    "    else:\n",
    "        multilevel_attr.append(column)\n",
    "    \n",
    "    ax = fig.add_subplot(2, 2, (i%4)+1)\n",
    "    sns.countplot(data=azdias_without_nans, x=column);\n",
    "\n",
    "plt.show()"
   ]
  },
  {
   "cell_type": "code",
   "execution_count": 38,
   "metadata": {
    "scrolled": false
   },
   "outputs": [
    {
     "data": {
      "image/png": "[encoded data removed]",
      "text/plain": [
       "<Figure size 1080x576 with 1 Axes>"
      ]
     },
     "metadata": {
      "needs_background": "light"
     },
     "output_type": "display_data"
    }
   ],
   "source": [
    "# I decided to plot the last column on its own because of the comparably high number of categories in it\n",
    "fig = plt.figure(figsize=(15,8))\n",
    "sns.countplot(data=azdias_without_nans, x='CAMEO_DEU_2015');"
   ]
  },
  {
   "cell_type": "code",
   "execution_count": 39,
   "metadata": {
    "scrolled": true
   },
   "outputs": [],
   "source": [
    "# And since it is a categorical multilevel attribute, it should be added to the multilevel_attr array.\n",
    "# multilevel_attr.append('CAMEO_DEU_2015')\n",
    "\n",
    "# However, since this attribute has way too many categories, there is a big chance it will clutter the transformed dataset,\n",
    "# since it will create a dummy variable for every one of its 45 possible values. So I have decided to remove it from the\n",
    "# analisys, denoting it as a special variable.\n",
    "\n",
    "azdias_modified = azdias_without_nans.drop(['CAMEO_DEU_2015'], axis=1)"
   ]
  },
  {
   "cell_type": "code",
   "execution_count": 40,
   "metadata": {},
   "outputs": [
    {
     "name": "stdout",
     "output_type": "stream",
     "text": [
      "Binary attributes ( 5 ):  ['ANREDE_KZ', 'GREEN_AVANTGARDE', 'SOHO_KZ', 'VERS_TYP', 'OST_WEST_KZ'] \n",
      "\n",
      "Multi-level attributes ( 12 ):  ['CJT_GESAMTTYP', 'FINANZTYP', 'GFK_URLAUBERTYP', 'LP_FAMILIE_FEIN', 'LP_FAMILIE_GROB', 'LP_STATUS_FEIN', 'LP_STATUS_GROB', 'NATIONALITAET_KZ', 'SHOPPER_TYP', 'ZABEOTYP', 'GEBAEUDETYP', 'CAMEO_DEUG_2015']\n"
     ]
    }
   ],
   "source": [
    "print('Binary attributes (', len(binary_attr),'): ', binary_attr, '\\n')\n",
    "print('Multi-level attributes (', len(multilevel_attr),'): ', multilevel_attr)"
   ]
  },
  {
   "cell_type": "code",
   "execution_count": 41,
   "metadata": {
    "scrolled": true
   },
   "outputs": [],
   "source": [
    "# Now to handle the special binary attribute case, I will be doing the following substitution.\n",
    "\n",
    "azdias_modified = azdias_modified.replace({'OST_WEST_KZ': {'W': 0, 'O': 1}})"
   ]
  },
  {
   "cell_type": "code",
   "execution_count": 42,
   "metadata": {
    "scrolled": false
   },
   "outputs": [
    {
     "data": {
      "text/plain": [
       "Index(['ALTERSKATEGORIE_GROB', 'ANREDE_KZ', 'FINANZ_MINIMALIST',\n",
       "       'FINANZ_SPARER', 'FINANZ_VORSORGER', 'FINANZ_ANLEGER',\n",
       "       'FINANZ_UNAUFFAELLIGER', 'FINANZ_HAUSBAUER', 'GREEN_AVANTGARDE',\n",
       "       'HEALTH_TYP',\n",
       "       ...\n",
       "       'GEBAEUDETYP_8.0', 'CAMEO_DEUG_2015_1', 'CAMEO_DEUG_2015_2',\n",
       "       'CAMEO_DEUG_2015_3', 'CAMEO_DEUG_2015_4', 'CAMEO_DEUG_2015_5',\n",
       "       'CAMEO_DEUG_2015_6', 'CAMEO_DEUG_2015_7', 'CAMEO_DEUG_2015_8',\n",
       "       'CAMEO_DEUG_2015_9'],\n",
       "      dtype='object', length=147)"
      ]
     },
     "execution_count": 42,
     "metadata": {},
     "output_type": "execute_result"
    }
   ],
   "source": [
    "# Re-encode categorical variable(s) to be kept in the analysis.\n",
    "azdias_encoded = pd.get_dummies(azdias_modified, columns=multilevel_attr)\n",
    "azdias_encoded.columns"
   ]
  },
  {
   "cell_type": "markdown",
   "metadata": {},
   "source": [
    "#### Discussion 1.2.1: Re-Encode Categorical Features\n",
    "\n",
    "I started by graphing the distributions of values of all the categorical columns, to see the different range of categories present in each attribute. I also programmatically separated the binary from the multilevel attributes. One particular column, 'CAMEO_DEU_2015', presented a range of values so high, that I decided to drop it from further analisys, since it would create way too many dummy variables after one-hot encoding. After that I manually engineered the 'OST_WEST_KZ' column to replace the 'W' and 'O' values with 0 and 1, respectively. In the end I then One-Hot encoded the multilevel variables from the dataset, creating an end dataset of 148 features.\n",
    "\n",
    "(Double-click this cell and replace this text with your own text, reporting your findings and decisions regarding categorical features. Which ones did you keep, which did you drop, and what engineering steps did you perform?)"
   ]
  },
  {
   "cell_type": "markdown",
   "metadata": {},
   "source": [
    "#### Step 1.2.2: Engineer Mixed-Type Features\n",
    "\n",
    "There are a handful of features that are marked as \"mixed\" in the feature summary that require special treatment in order to be included in the analysis. There are two in particular that deserve attention; the handling of the rest are up to your own choices:\n",
    "- \"PRAEGENDE_JUGENDJAHRE\" combines information on three dimensions: generation by decade, movement (mainstream vs. avantgarde), and nation (east vs. west). While there aren't enough levels to disentangle east from west, you should create two new variables to capture the other two dimensions: an interval-type variable for decade, and a binary variable for movement.\n",
    "- \"CAMEO_INTL_2015\" combines information on two axes: wealth and life stage. Break up the two-digit codes by their 'tens'-place and 'ones'-place digits into two new ordinal variables (which, for the purposes of this project, is equivalent to just treating them as their raw numeric values).\n",
    "- If you decide to keep or engineer new features around the other mixed-type features, make sure you note your steps in the Discussion section.\n",
    "\n",
    "Be sure to check `Data_Dictionary.md` for the details needed to finish these tasks."
   ]
  },
  {
   "cell_type": "code",
   "execution_count": 43,
   "metadata": {},
   "outputs": [],
   "source": [
    "# Investigate \"PRAEGENDE_JUGENDJAHRE\" and engineer two new variables.\n",
    "\n",
    "# Decade:Number\n",
    "def praeg_decade (row):\n",
    "    praeg_label = row['PRAEGENDE_JUGENDJAHRE']\n",
    "    \n",
    "    if praeg_label >= 1 and praeg_label <= 2:\n",
    "        return 40;\n",
    "    if praeg_label >= 3 and praeg_label <= 4:\n",
    "        return 50;\n",
    "    if praeg_label >= 5 and praeg_label <= 7:\n",
    "        return 60;\n",
    "    if praeg_label >= 8 and praeg_label <= 9:\n",
    "        return 70;\n",
    "    if praeg_label >= 10 and praeg_label <= 13:\n",
    "        return 80;\n",
    "    if praeg_label >= 14 and praeg_label <= 15:\n",
    "        return 90;\n",
    "    return np.nan"
   ]
  },
  {
   "cell_type": "code",
   "execution_count": 44,
   "metadata": {},
   "outputs": [],
   "source": [
    "azdias_encoded['decade'] = azdias_encoded.apply(lambda row: praeg_decade(row), axis=1)"
   ]
  },
  {
   "cell_type": "code",
   "execution_count": 45,
   "metadata": {},
   "outputs": [
    {
     "data": {
      "text/plain": [
       "1    90\n",
       "2    90\n",
       "4    70\n",
       "5    50\n",
       "6    80\n",
       "Name: decade, dtype: int64"
      ]
     },
     "execution_count": 45,
     "metadata": {},
     "output_type": "execute_result"
    }
   ],
   "source": [
    "azdias_encoded['decade'].head()"
   ]
  },
  {
   "cell_type": "code",
   "execution_count": 46,
   "metadata": {},
   "outputs": [],
   "source": [
    "# mainstream:0; avantgarde:1\n",
    "def praeg_movement (row):\n",
    "    praeg_label = row['PRAEGENDE_JUGENDJAHRE']\n",
    "    \n",
    "    if praeg_label == 1:\n",
    "        return 0;\n",
    "    if praeg_label == 2:\n",
    "        return 1;\n",
    "    if praeg_label == 3:\n",
    "        return 0;\n",
    "    if praeg_label == 4:\n",
    "        return 1;\n",
    "    if praeg_label == 5:\n",
    "        return 0;\n",
    "    if praeg_label == 6:\n",
    "        return 0;\n",
    "    if praeg_label == 7:\n",
    "        return 0;\n",
    "    if praeg_label == 8:\n",
    "        return 1;\n",
    "    if praeg_label == 9:\n",
    "        return 0;\n",
    "    if praeg_label == 10:\n",
    "        return 1;\n",
    "    if praeg_label == 11:\n",
    "        return 0;\n",
    "    if praeg_label == 12:\n",
    "        return 1;\n",
    "    if praeg_label == 13:\n",
    "        return 0;\n",
    "    if praeg_label == 14:\n",
    "        return 1;\n",
    "    if praeg_label == 15:\n",
    "        return 0;\n",
    "    return np.nan"
   ]
  },
  {
   "cell_type": "code",
   "execution_count": 47,
   "metadata": {},
   "outputs": [],
   "source": [
    "azdias_encoded['movement'] = azdias_encoded.apply(lambda row: praeg_movement(row), axis=1)"
   ]
  },
  {
   "cell_type": "code",
   "execution_count": 48,
   "metadata": {},
   "outputs": [
    {
     "data": {
      "text/plain": [
       "1    1\n",
       "2    0\n",
       "4    1\n",
       "5    0\n",
       "6    1\n",
       "Name: movement, dtype: int64"
      ]
     },
     "execution_count": 48,
     "metadata": {},
     "output_type": "execute_result"
    }
   ],
   "source": [
    "azdias_encoded['movement'].head()"
   ]
  },
  {
   "cell_type": "code",
   "execution_count": 49,
   "metadata": {},
   "outputs": [
    {
     "data": {
      "text/plain": [
       "1         51\n",
       "2         24\n",
       "4         43\n",
       "5         54\n",
       "6         22\n",
       "          ..\n",
       "891213    34\n",
       "891214    23\n",
       "891215    31\n",
       "891219    51\n",
       "891220    43\n",
       "Name: CAMEO_INTL_2015, Length: 623209, dtype: object"
      ]
     },
     "execution_count": 49,
     "metadata": {},
     "output_type": "execute_result"
    }
   ],
   "source": [
    "azdias_encoded['CAMEO_INTL_2015']"
   ]
  },
  {
   "cell_type": "code",
   "execution_count": 50,
   "metadata": {
    "scrolled": true
   },
   "outputs": [],
   "source": [
    "# Investigate \"CAMEO_INTL_2015\" and engineer two new variables.\n",
    "\n",
    "# Wealthy:1; Prosperous:2; Comfortable:3; Less Afluent:4; Poorer:5\n",
    "def cameo_wealthlevel (row):\n",
    "    cameo_label = int(row['CAMEO_INTL_2015'])\n",
    "        \n",
    "    if cameo_label >= 11 and cameo_label <= 55:\n",
    "        return cameo_label // 10;\n",
    "    return np.nan"
   ]
  },
  {
   "cell_type": "code",
   "execution_count": 51,
   "metadata": {},
   "outputs": [],
   "source": [
    "azdias_encoded['wealth_level'] = azdias_encoded.apply(lambda row: cameo_wealthlevel(row), axis=1)"
   ]
  },
  {
   "cell_type": "code",
   "execution_count": 52,
   "metadata": {},
   "outputs": [
    {
     "data": {
      "text/plain": [
       "1    5\n",
       "2    2\n",
       "4    4\n",
       "5    5\n",
       "6    2\n",
       "Name: wealth_level, dtype: int64"
      ]
     },
     "execution_count": 52,
     "metadata": {},
     "output_type": "execute_result"
    }
   ],
   "source": [
    "azdias_encoded['wealth_level'].head()"
   ]
  },
  {
   "cell_type": "code",
   "execution_count": 53,
   "metadata": {},
   "outputs": [],
   "source": [
    "# Pre-Family:1; Children:2; School Age Children:3; Older Families:4; Elders:5\n",
    "def cameo_lifestage(row):\n",
    "    cameo_label = int(row['CAMEO_INTL_2015'])\n",
    "    \n",
    "    if cameo_label >= 11 and cameo_label <= 55:\n",
    "        return cameo_label % 10;\n",
    "    return np.nan"
   ]
  },
  {
   "cell_type": "code",
   "execution_count": 54,
   "metadata": {},
   "outputs": [],
   "source": [
    "azdias_encoded['lifestage'] = azdias_encoded.apply(lambda row: cameo_lifestage(row), axis=1)"
   ]
  },
  {
   "cell_type": "code",
   "execution_count": 55,
   "metadata": {},
   "outputs": [
    {
     "data": {
      "text/plain": [
       "1    1\n",
       "2    4\n",
       "4    3\n",
       "5    4\n",
       "6    2\n",
       "Name: lifestage, dtype: int64"
      ]
     },
     "execution_count": 55,
     "metadata": {},
     "output_type": "execute_result"
    }
   ],
   "source": [
    "azdias_encoded['lifestage'].head()"
   ]
  },
  {
   "cell_type": "code",
   "execution_count": 56,
   "metadata": {},
   "outputs": [],
   "source": [
    "# To analyze the other mixed columns, I will be graphing them in the same way I did the categorical values\n",
    "\n",
    "mixed_attr = feat_info[feat_info['type'] == 'mixed'].attribute;"
   ]
  },
  {
   "cell_type": "code",
   "execution_count": 57,
   "metadata": {},
   "outputs": [
    {
     "data": {
      "text/plain": [
       "15      LP_LEBENSPHASE_FEIN\n",
       "16      LP_LEBENSPHASE_GROB\n",
       "22    PRAEGENDE_JUGENDJAHRE\n",
       "56                 WOHNLAGE\n",
       "59          CAMEO_INTL_2015\n",
       "64             KBA05_BAUMAX\n",
       "79              PLZ8_BAUMAX\n",
       "Name: attribute, dtype: object"
      ]
     },
     "execution_count": 57,
     "metadata": {},
     "output_type": "execute_result"
    }
   ],
   "source": [
    "mixed_attr"
   ]
  },
  {
   "cell_type": "code",
   "execution_count": 58,
   "metadata": {},
   "outputs": [],
   "source": [
    "# As with the categorical variables, the columns removed due to missing values also need to be removed from the \n",
    "# mixed attribute list.\n",
    "\n",
    "mixed_attr = mixed_attr.drop(labels=[64])"
   ]
  },
  {
   "cell_type": "code",
   "execution_count": 59,
   "metadata": {},
   "outputs": [
    {
     "data": {
      "image/png": "[encoded data removed]",
      "text/plain": [
       "<Figure size 1080x576 with 4 Axes>"
      ]
     },
     "metadata": {
      "needs_background": "light"
     },
     "output_type": "display_data"
    },
    {
     "data": {
      "image/png": "[encoded data removed]",
      "text/plain": [
       "<Figure size 1080x576 with 2 Axes>"
      ]
     },
     "metadata": {
      "needs_background": "light"
     },
     "output_type": "display_data"
    }
   ],
   "source": [
    "for i in range(0, len(mixed_attr)):\n",
    "    if((i%4)+1 == 1):\n",
    "        fig = plt.figure(figsize=(15,8))\n",
    "        fig.subplots_adjust(hspace=0.4, wspace=0.4)\n",
    "        \n",
    "    column = mixed_attr.iloc[i]\n",
    "        \n",
    "    ax = fig.add_subplot(2, 2, (i%4)+1)\n",
    "    g = sns.countplot(data=azdias_encoded, x=column);\n",
    "\n",
    "    if(i == 0):\n",
    "        g.set_xticklabels(labels=g.get_xticklabels(), rotation=90)\n",
    "        g.tick_params(labelsize=7)\n",
    "\n",
    "plt.show()"
   ]
  },
  {
   "cell_type": "code",
   "execution_count": 60,
   "metadata": {},
   "outputs": [],
   "source": [
    "azdias_encoded = azdias_encoded.drop(['LP_LEBENSPHASE_FEIN'], axis=1)"
   ]
  },
  {
   "cell_type": "markdown",
   "metadata": {},
   "source": [
    "#### Discussion 1.2.2: Engineer Mixed-Type Features\n",
    "\n",
    "Having already dealt with the attributes PRAEGENDE_JUGENDJAHRE and CAMEO_INTL_2015, and after veryfying that the columns WOHNLAGE and KBA05_BAUMAX cannot be disentangled, the columns that are left are \"LP_LEBENSPHASE_FEIN\" and \"LP_LEBENSPHASE_GROB\".\n",
    "\n",
    "As it seems, \"LP_LEBENSPHASE_FEIN\" is a more detailed version of \"LP_LEBENSPHASE_GROB\", which roughly describes a persons life stage. These details would generate unnecessary noise in the dataset, and since the bulk of the information is present in \"LP_LEBENSPHASE_GROB\", it is safe to say that the more detailed version could be dropped. Being left with the reduced more rough version, it is very hard to disentangle, so it will be left as is.\n",
    "\n",
    "(Double-click this cell and replace this text with your own text, reporting your findings and decisions regarding mixed-value features. Which ones did you keep, which did you drop, and what engineering steps did you perform?)"
   ]
  },
  {
   "cell_type": "markdown",
   "metadata": {},
   "source": [
    "#### Step 1.2.3: Complete Feature Selection\n",
    "\n",
    "In order to finish this step up, you need to make sure that your data frame now only has the columns that you want to keep. To summarize, the dataframe should consist of the following:\n",
    "- All numeric, interval, and ordinal type columns from the original dataset.\n",
    "- Binary categorical features (all numerically-encoded).\n",
    "- Engineered features from other multi-level categorical features and mixed features.\n",
    "\n",
    "Make sure that for any new columns that you have engineered, that you've excluded the original columns from the final dataset. Otherwise, their values will interfere with the analysis later on the project. For example, you should not keep \"PRAEGENDE_JUGENDJAHRE\", since its values won't be useful for the algorithm: only the values derived from it in the engineered features you created should be retained. As a reminder, your data should only be from **the subset with few or no missing values**."
   ]
  },
  {
   "cell_type": "code",
   "execution_count": 69,
   "metadata": {
    "scrolled": false
   },
   "outputs": [],
   "source": [
    "# If there are other re-engineering tasks you need to perform, make sure you\n",
    "# take care of them here. (Dealing with missing data will come in step 2.1.)\n",
    "def show_df_info(df):\n",
    "    percent_missing = df.isnull().sum() * 100 / len(azdias_encoded)\n",
    "    column_types = df.dtypes\n",
    "\n",
    "    raw_data = {'column': df.columns, 'nan_percentage': percent_missing, 'type': column_types}\n",
    "\n",
    "    results = pd.DataFrame(raw_data, columns = ['column', 'nan_percentage', 'type'])\n",
    "\n",
    "    with pd.option_context('display.max_rows', None, 'display.max_columns', None):  # more options can be specified also\n",
    "        print(results)"
   ]
  },
  {
   "cell_type": "code",
   "execution_count": 71,
   "metadata": {},
   "outputs": [
    {
     "name": "stdout",
     "output_type": "stream",
     "text": [
      "                                      column  nan_percentage     type\n",
      "ALTERSKATEGORIE_GROB    ALTERSKATEGORIE_GROB             0.0  float64\n",
      "ANREDE_KZ                          ANREDE_KZ             0.0    int64\n",
      "FINANZ_MINIMALIST          FINANZ_MINIMALIST             0.0    int64\n",
      "FINANZ_SPARER                  FINANZ_SPARER             0.0    int64\n",
      "FINANZ_VORSORGER            FINANZ_VORSORGER             0.0    int64\n",
      "FINANZ_ANLEGER                FINANZ_ANLEGER             0.0    int64\n",
      "FINANZ_UNAUFFAELLIGER  FINANZ_UNAUFFAELLIGER             0.0    int64\n",
      "FINANZ_HAUSBAUER            FINANZ_HAUSBAUER             0.0    int64\n",
      "GREEN_AVANTGARDE            GREEN_AVANTGARDE             0.0    int64\n",
      "HEALTH_TYP                        HEALTH_TYP             0.0  float64\n",
      "LP_LEBENSPHASE_GROB      LP_LEBENSPHASE_GROB             0.0  float64\n",
      "PRAEGENDE_JUGENDJAHRE  PRAEGENDE_JUGENDJAHRE             0.0  float64\n",
      "RETOURTYP_BK_S                RETOURTYP_BK_S             0.0  float64\n",
      "SEMIO_SOZ                          SEMIO_SOZ             0.0    int64\n",
      "SEMIO_FAM                          SEMIO_FAM             0.0    int64\n",
      "SEMIO_REL                          SEMIO_REL             0.0    int64\n",
      "SEMIO_MAT                          SEMIO_MAT             0.0    int64\n",
      "SEMIO_VERT                        SEMIO_VERT             0.0    int64\n",
      "SEMIO_LUST                        SEMIO_LUST             0.0    int64\n",
      "SEMIO_ERL                          SEMIO_ERL             0.0    int64\n",
      "SEMIO_KULT                        SEMIO_KULT             0.0    int64\n",
      "SEMIO_RAT                          SEMIO_RAT             0.0    int64\n",
      "SEMIO_KRIT                        SEMIO_KRIT             0.0    int64\n",
      "SEMIO_DOM                          SEMIO_DOM             0.0    int64\n",
      "SEMIO_KAEM                        SEMIO_KAEM             0.0    int64\n",
      "SEMIO_PFLICHT                  SEMIO_PFLICHT             0.0    int64\n",
      "SEMIO_TRADV                      SEMIO_TRADV             0.0    int64\n",
      "SOHO_KZ                              SOHO_KZ             0.0  float64\n",
      "VERS_TYP                            VERS_TYP             0.0  float64\n",
      "ANZ_PERSONEN                    ANZ_PERSONEN             0.0  float64\n",
      "ANZ_TITEL                          ANZ_TITEL             0.0  float64\n",
      "HH_EINKOMMEN_SCORE        HH_EINKOMMEN_SCORE             0.0  float64\n",
      "W_KEIT_KIND_HH                W_KEIT_KIND_HH             0.0  float64\n",
      "WOHNDAUER_2008                WOHNDAUER_2008             0.0  float64\n",
      "ANZ_HAUSHALTE_AKTIV      ANZ_HAUSHALTE_AKTIV             0.0  float64\n",
      "ANZ_HH_TITEL                    ANZ_HH_TITEL             0.0  float64\n",
      "KONSUMNAEHE                      KONSUMNAEHE             0.0  float64\n",
      "MIN_GEBAEUDEJAHR            MIN_GEBAEUDEJAHR             0.0  float64\n",
      "OST_WEST_KZ                      OST_WEST_KZ             0.0    int64\n",
      "WOHNLAGE                            WOHNLAGE             0.0  float64\n",
      "CAMEO_INTL_2015              CAMEO_INTL_2015             0.0   object\n",
      "KBA05_ANTG1                      KBA05_ANTG1             0.0  float64\n",
      "KBA05_ANTG2                      KBA05_ANTG2             0.0  float64\n",
      "KBA05_ANTG3                      KBA05_ANTG3             0.0  float64\n",
      "KBA05_ANTG4                      KBA05_ANTG4             0.0  float64\n",
      "KBA05_GBZ                          KBA05_GBZ             0.0  float64\n",
      "BALLRAUM                            BALLRAUM             0.0  float64\n",
      "EWDICHTE                            EWDICHTE             0.0  float64\n",
      "INNENSTADT                        INNENSTADT             0.0  float64\n",
      "GEBAEUDETYP_RASTER        GEBAEUDETYP_RASTER             0.0  float64\n",
      "KKK                                      KKK             0.0  float64\n",
      "MOBI_REGIO                        MOBI_REGIO             0.0  float64\n",
      "ONLINE_AFFINITAET          ONLINE_AFFINITAET             0.0  float64\n",
      "REGIOTYP                            REGIOTYP             0.0  float64\n",
      "KBA13_ANZAHL_PKW            KBA13_ANZAHL_PKW             0.0  float64\n",
      "PLZ8_ANTG1                        PLZ8_ANTG1             0.0  float64\n",
      "PLZ8_ANTG2                        PLZ8_ANTG2             0.0  float64\n",
      "PLZ8_ANTG3                        PLZ8_ANTG3             0.0  float64\n",
      "PLZ8_ANTG4                        PLZ8_ANTG4             0.0  float64\n",
      "PLZ8_BAUMAX                      PLZ8_BAUMAX             0.0  float64\n",
      "PLZ8_HHZ                            PLZ8_HHZ             0.0  float64\n",
      "PLZ8_GBZ                            PLZ8_GBZ             0.0  float64\n",
      "ARBEIT                                ARBEIT             0.0  float64\n",
      "ORTSGR_KLS9                      ORTSGR_KLS9             0.0  float64\n",
      "RELAT_AB                            RELAT_AB             0.0  float64\n",
      "CJT_GESAMTTYP_1.0          CJT_GESAMTTYP_1.0             0.0    uint8\n",
      "CJT_GESAMTTYP_2.0          CJT_GESAMTTYP_2.0             0.0    uint8\n",
      "CJT_GESAMTTYP_3.0          CJT_GESAMTTYP_3.0             0.0    uint8\n",
      "CJT_GESAMTTYP_4.0          CJT_GESAMTTYP_4.0             0.0    uint8\n",
      "CJT_GESAMTTYP_5.0          CJT_GESAMTTYP_5.0             0.0    uint8\n",
      "CJT_GESAMTTYP_6.0          CJT_GESAMTTYP_6.0             0.0    uint8\n",
      "FINANZTYP_1                      FINANZTYP_1             0.0    uint8\n",
      "FINANZTYP_2                      FINANZTYP_2             0.0    uint8\n",
      "FINANZTYP_3                      FINANZTYP_3             0.0    uint8\n",
      "FINANZTYP_4                      FINANZTYP_4             0.0    uint8\n",
      "FINANZTYP_5                      FINANZTYP_5             0.0    uint8\n",
      "FINANZTYP_6                      FINANZTYP_6             0.0    uint8\n",
      "GFK_URLAUBERTYP_1.0      GFK_URLAUBERTYP_1.0             0.0    uint8\n",
      "GFK_URLAUBERTYP_2.0      GFK_URLAUBERTYP_2.0             0.0    uint8\n",
      "GFK_URLAUBERTYP_3.0      GFK_URLAUBERTYP_3.0             0.0    uint8\n",
      "GFK_URLAUBERTYP_4.0      GFK_URLAUBERTYP_4.0             0.0    uint8\n",
      "GFK_URLAUBERTYP_5.0      GFK_URLAUBERTYP_5.0             0.0    uint8\n",
      "GFK_URLAUBERTYP_6.0      GFK_URLAUBERTYP_6.0             0.0    uint8\n",
      "GFK_URLAUBERTYP_7.0      GFK_URLAUBERTYP_7.0             0.0    uint8\n",
      "GFK_URLAUBERTYP_8.0      GFK_URLAUBERTYP_8.0             0.0    uint8\n",
      "GFK_URLAUBERTYP_9.0      GFK_URLAUBERTYP_9.0             0.0    uint8\n",
      "GFK_URLAUBERTYP_10.0    GFK_URLAUBERTYP_10.0             0.0    uint8\n",
      "GFK_URLAUBERTYP_11.0    GFK_URLAUBERTYP_11.0             0.0    uint8\n",
      "GFK_URLAUBERTYP_12.0    GFK_URLAUBERTYP_12.0             0.0    uint8\n",
      "LP_FAMILIE_FEIN_1.0      LP_FAMILIE_FEIN_1.0             0.0    uint8\n",
      "LP_FAMILIE_FEIN_2.0      LP_FAMILIE_FEIN_2.0             0.0    uint8\n",
      "LP_FAMILIE_FEIN_3.0      LP_FAMILIE_FEIN_3.0             0.0    uint8\n",
      "LP_FAMILIE_FEIN_4.0      LP_FAMILIE_FEIN_4.0             0.0    uint8\n",
      "LP_FAMILIE_FEIN_5.0      LP_FAMILIE_FEIN_5.0             0.0    uint8\n",
      "LP_FAMILIE_FEIN_6.0      LP_FAMILIE_FEIN_6.0             0.0    uint8\n",
      "LP_FAMILIE_FEIN_7.0      LP_FAMILIE_FEIN_7.0             0.0    uint8\n",
      "LP_FAMILIE_FEIN_8.0      LP_FAMILIE_FEIN_8.0             0.0    uint8\n",
      "LP_FAMILIE_FEIN_9.0      LP_FAMILIE_FEIN_9.0             0.0    uint8\n",
      "LP_FAMILIE_FEIN_10.0    LP_FAMILIE_FEIN_10.0             0.0    uint8\n",
      "LP_FAMILIE_FEIN_11.0    LP_FAMILIE_FEIN_11.0             0.0    uint8\n",
      "LP_FAMILIE_GROB_1.0      LP_FAMILIE_GROB_1.0             0.0    uint8\n",
      "LP_FAMILIE_GROB_2.0      LP_FAMILIE_GROB_2.0             0.0    uint8\n",
      "LP_FAMILIE_GROB_3.0      LP_FAMILIE_GROB_3.0             0.0    uint8\n",
      "LP_FAMILIE_GROB_4.0      LP_FAMILIE_GROB_4.0             0.0    uint8\n",
      "LP_FAMILIE_GROB_5.0      LP_FAMILIE_GROB_5.0             0.0    uint8\n",
      "LP_STATUS_FEIN_1.0        LP_STATUS_FEIN_1.0             0.0    uint8\n",
      "LP_STATUS_FEIN_2.0        LP_STATUS_FEIN_2.0             0.0    uint8\n",
      "LP_STATUS_FEIN_3.0        LP_STATUS_FEIN_3.0             0.0    uint8\n",
      "LP_STATUS_FEIN_4.0        LP_STATUS_FEIN_4.0             0.0    uint8\n",
      "LP_STATUS_FEIN_5.0        LP_STATUS_FEIN_5.0             0.0    uint8\n",
      "LP_STATUS_FEIN_6.0        LP_STATUS_FEIN_6.0             0.0    uint8\n",
      "LP_STATUS_FEIN_7.0        LP_STATUS_FEIN_7.0             0.0    uint8\n",
      "LP_STATUS_FEIN_8.0        LP_STATUS_FEIN_8.0             0.0    uint8\n",
      "LP_STATUS_FEIN_9.0        LP_STATUS_FEIN_9.0             0.0    uint8\n",
      "LP_STATUS_FEIN_10.0      LP_STATUS_FEIN_10.0             0.0    uint8\n",
      "LP_STATUS_GROB_1.0        LP_STATUS_GROB_1.0             0.0    uint8\n",
      "LP_STATUS_GROB_2.0        LP_STATUS_GROB_2.0             0.0    uint8\n",
      "LP_STATUS_GROB_3.0        LP_STATUS_GROB_3.0             0.0    uint8\n",
      "LP_STATUS_GROB_4.0        LP_STATUS_GROB_4.0             0.0    uint8\n",
      "LP_STATUS_GROB_5.0        LP_STATUS_GROB_5.0             0.0    uint8\n",
      "NATIONALITAET_KZ_1.0    NATIONALITAET_KZ_1.0             0.0    uint8\n",
      "NATIONALITAET_KZ_2.0    NATIONALITAET_KZ_2.0             0.0    uint8\n",
      "NATIONALITAET_KZ_3.0    NATIONALITAET_KZ_3.0             0.0    uint8\n",
      "SHOPPER_TYP_0.0              SHOPPER_TYP_0.0             0.0    uint8\n",
      "SHOPPER_TYP_1.0              SHOPPER_TYP_1.0             0.0    uint8\n",
      "SHOPPER_TYP_2.0              SHOPPER_TYP_2.0             0.0    uint8\n",
      "SHOPPER_TYP_3.0              SHOPPER_TYP_3.0             0.0    uint8\n",
      "ZABEOTYP_1                        ZABEOTYP_1             0.0    uint8\n",
      "ZABEOTYP_2                        ZABEOTYP_2             0.0    uint8\n",
      "ZABEOTYP_3                        ZABEOTYP_3             0.0    uint8\n",
      "ZABEOTYP_4                        ZABEOTYP_4             0.0    uint8\n",
      "ZABEOTYP_5                        ZABEOTYP_5             0.0    uint8\n",
      "ZABEOTYP_6                        ZABEOTYP_6             0.0    uint8\n",
      "GEBAEUDETYP_1.0              GEBAEUDETYP_1.0             0.0    uint8\n",
      "GEBAEUDETYP_3.0              GEBAEUDETYP_3.0             0.0    uint8\n",
      "GEBAEUDETYP_5.0              GEBAEUDETYP_5.0             0.0    uint8\n",
      "GEBAEUDETYP_8.0              GEBAEUDETYP_8.0             0.0    uint8\n",
      "CAMEO_DEUG_2015_1          CAMEO_DEUG_2015_1             0.0    uint8\n",
      "CAMEO_DEUG_2015_2          CAMEO_DEUG_2015_2             0.0    uint8\n",
      "CAMEO_DEUG_2015_3          CAMEO_DEUG_2015_3             0.0    uint8\n",
      "CAMEO_DEUG_2015_4          CAMEO_DEUG_2015_4             0.0    uint8\n",
      "CAMEO_DEUG_2015_5          CAMEO_DEUG_2015_5             0.0    uint8\n",
      "CAMEO_DEUG_2015_6          CAMEO_DEUG_2015_6             0.0    uint8\n",
      "CAMEO_DEUG_2015_7          CAMEO_DEUG_2015_7             0.0    uint8\n",
      "CAMEO_DEUG_2015_8          CAMEO_DEUG_2015_8             0.0    uint8\n",
      "CAMEO_DEUG_2015_9          CAMEO_DEUG_2015_9             0.0    uint8\n",
      "decade                                decade             0.0    int64\n",
      "movement                            movement             0.0    int64\n",
      "wealth_level                    wealth_level             0.0    int64\n",
      "lifestage                          lifestage             0.0    int64\n"
     ]
    }
   ],
   "source": [
    "show_df_info(azdias_encoded)"
   ]
  },
  {
   "cell_type": "code",
   "execution_count": 62,
   "metadata": {},
   "outputs": [],
   "source": [
    "# Do whatever you need to in order to ensure that the dataframe only contains\n",
    "# the columns that should be passed to the algorithm functions.\n",
    "\n",
    "azdias_final = azdias_encoded.drop(['PRAEGENDE_JUGENDJAHRE', 'CAMEO_INTL_2015'], axis=1)"
   ]
  },
  {
   "cell_type": "markdown",
   "metadata": {},
   "source": [
    "### Step 1.3: Create a Cleaning Function\n",
    "\n",
    "Even though you've finished cleaning up the general population demographics data, it's important to look ahead to the future and realize that you'll need to perform the same cleaning steps on the customer demographics data. In this substep, complete the function below to execute the main feature selection, encoding, and re-engineering steps you performed above. Then, when it comes to looking at the customer data in Step 3, you can just run this function on that DataFrame to get the trimmed dataset in a single step."
   ]
  },
  {
   "cell_type": "code",
   "execution_count": 65,
   "metadata": {},
   "outputs": [],
   "source": [
    "def replace_nancodes(df):\n",
    "    for column_name in df:\n",
    "        column_index = (df.columns.get_loc(column_name))\n",
    "        column = df[column_name]\n",
    "\n",
    "        if(len(nan_values_by_column[column_index]) == 0):\n",
    "            continue;\n",
    "\n",
    "        df[column_name] = df[column_name].replace(nan_values_by_column[column_index], np.nan)\n",
    "    \n",
    "    return df;"
   ]
  },
  {
   "cell_type": "code",
   "execution_count": 73,
   "metadata": {},
   "outputs": [],
   "source": [
    "def clean_data(df):\n",
    "    \"\"\"\n",
    "    Perform feature trimming, re-encoding, and engineering for demographics\n",
    "    data\n",
    "    \n",
    "    INPUT: Demographics DataFrame\n",
    "    OUTPUT: Trimmed and cleaned demographics DataFrame\n",
    "    \"\"\"\n",
    "    \n",
    "    # Put in code here to execute all main cleaning steps:\n",
    "    # convert missing value codes into NaNs, ...\n",
    "    df = replace_nancodes(df);\n",
    "    \n",
    "    # remove selected columns and rows, ...\n",
    "    df_reduced_columns = df.loc[:, azdias.isnull().mean() < .20];\n",
    "    \n",
    "    row_nan_percentage = df_reduced_columns.apply(lambda x: 1-(x.count()/n_columns), axis=1);\n",
    "    rows_with_nans = row_nan_percentage.where(row_nan_percentage > 0).dropna();\n",
    "    df_without_nans = df_reduced_columns.drop(rows_with_nans.index);\n",
    "    \n",
    "    # select, re-encode, and engineer column values.\n",
    "    df_modified = df_without_nans.drop(['CAMEO_DEU_2015'], axis=1);\n",
    "    df_modified = df_modified.replace({'OST_WEST_KZ': {'W': 0, 'O': 1}});\n",
    "    \n",
    "    df_encoded = pd.get_dummies(df_modified, columns=multilevel_attr);\n",
    "    \n",
    "    df_engineered = df_encoded;\n",
    "    df_engineered['decade'] = df_engineered.apply(lambda row: praeg_decade(row), axis=1);\n",
    "    df_engineered['movement'] = df_engineered.apply(lambda row: praeg_movement(row), axis=1);\n",
    "    df_engineered['wealth_level'] = df_engineered.apply(lambda row: cameo_wealthlevel(row), axis=1);\n",
    "    df_engineered['lifestage'] = df_engineered.apply(lambda row: cameo_lifestage(row), axis=1);\n",
    "    \n",
    "    df_final = df_engineered.drop(['PRAEGENDE_JUGENDJAHRE', 'CAMEO_INTL_2015', 'LP_LEBENSPHASE_FEIN'], axis=1);\n",
    "    \n",
    "    # Return the cleaned dataframe.\n",
    "    return df_final;"
   ]
  },
  {
   "cell_type": "code",
   "execution_count": 74,
   "metadata": {},
   "outputs": [],
   "source": [
    "df_cleaned = clean_data(azdias);"
   ]
  },
  {
   "cell_type": "markdown",
   "metadata": {},
   "source": [
    "## Step 2: Feature Transformation\n",
    "\n",
    "### Step 2.1: Apply Feature Scaling\n",
    "\n",
    "Before we apply dimensionality reduction techniques to the data, we need to perform feature scaling so that the principal component vectors are not influenced by the natural differences in scale for features. Starting from this part of the project, you'll want to keep an eye on the [API reference page for sklearn](http://scikit-learn.org/stable/modules/classes.html) to help you navigate to all of the classes and functions that you'll need. In this substep, you'll need to check the following:\n",
    "\n",
    "- sklearn requires that data not have missing values in order for its estimators to work properly. So, before applying the scaler to your data, make sure that you've cleaned the DataFrame of the remaining missing values. This can be as simple as just removing all data points with missing data, or applying an [Imputer](http://scikit-learn.org/stable/modules/generated/sklearn.preprocessing.Imputer.html) to replace all missing values. You might also try a more complicated procedure where you temporarily remove missing values in order to compute the scaling parameters before re-introducing those missing values and applying imputation. Think about how much missing data you have and what possible effects each approach might have on your analysis, and justify your decision in the discussion section below.\n",
    "- For the actual scaling function, a [StandardScaler](http://scikit-learn.org/stable/modules/generated/sklearn.preprocessing.StandardScaler.html) instance is suggested, scaling each feature to mean 0 and standard deviation 1.\n",
    "- For these classes, you can make use of the `.fit_transform()` method to both fit a procedure to the data as well as apply the transformation to the data at the same time. Don't forget to keep the fit sklearn objects handy, since you'll be applying them to the customer demographics data towards the end of the project."
   ]
  },
  {
   "cell_type": "code",
   "execution_count": 76,
   "metadata": {},
   "outputs": [
    {
     "name": "stdout",
     "output_type": "stream",
     "text": [
      "                                      column  nan_percentage     type\n",
      "ALTERSKATEGORIE_GROB    ALTERSKATEGORIE_GROB             0.0  float64\n",
      "ANREDE_KZ                          ANREDE_KZ             0.0    int64\n",
      "FINANZ_MINIMALIST          FINANZ_MINIMALIST             0.0    int64\n",
      "FINANZ_SPARER                  FINANZ_SPARER             0.0    int64\n",
      "FINANZ_VORSORGER            FINANZ_VORSORGER             0.0    int64\n",
      "FINANZ_ANLEGER                FINANZ_ANLEGER             0.0    int64\n",
      "FINANZ_UNAUFFAELLIGER  FINANZ_UNAUFFAELLIGER             0.0    int64\n",
      "FINANZ_HAUSBAUER            FINANZ_HAUSBAUER             0.0    int64\n",
      "GREEN_AVANTGARDE            GREEN_AVANTGARDE             0.0    int64\n",
      "HEALTH_TYP                        HEALTH_TYP             0.0  float64\n",
      "LP_LEBENSPHASE_GROB      LP_LEBENSPHASE_GROB             0.0  float64\n",
      "RETOURTYP_BK_S                RETOURTYP_BK_S             0.0  float64\n",
      "SEMIO_SOZ                          SEMIO_SOZ             0.0    int64\n",
      "SEMIO_FAM                          SEMIO_FAM             0.0    int64\n",
      "SEMIO_REL                          SEMIO_REL             0.0    int64\n",
      "SEMIO_MAT                          SEMIO_MAT             0.0    int64\n",
      "SEMIO_VERT                        SEMIO_VERT             0.0    int64\n",
      "SEMIO_LUST                        SEMIO_LUST             0.0    int64\n",
      "SEMIO_ERL                          SEMIO_ERL             0.0    int64\n",
      "SEMIO_KULT                        SEMIO_KULT             0.0    int64\n",
      "SEMIO_RAT                          SEMIO_RAT             0.0    int64\n",
      "SEMIO_KRIT                        SEMIO_KRIT             0.0    int64\n",
      "SEMIO_DOM                          SEMIO_DOM             0.0    int64\n",
      "SEMIO_KAEM                        SEMIO_KAEM             0.0    int64\n",
      "SEMIO_PFLICHT                  SEMIO_PFLICHT             0.0    int64\n",
      "SEMIO_TRADV                      SEMIO_TRADV             0.0    int64\n",
      "SOHO_KZ                              SOHO_KZ             0.0  float64\n",
      "VERS_TYP                            VERS_TYP             0.0  float64\n",
      "ANZ_PERSONEN                    ANZ_PERSONEN             0.0  float64\n",
      "ANZ_TITEL                          ANZ_TITEL             0.0  float64\n",
      "HH_EINKOMMEN_SCORE        HH_EINKOMMEN_SCORE             0.0  float64\n",
      "W_KEIT_KIND_HH                W_KEIT_KIND_HH             0.0  float64\n",
      "WOHNDAUER_2008                WOHNDAUER_2008             0.0  float64\n",
      "ANZ_HAUSHALTE_AKTIV      ANZ_HAUSHALTE_AKTIV             0.0  float64\n",
      "ANZ_HH_TITEL                    ANZ_HH_TITEL             0.0  float64\n",
      "KONSUMNAEHE                      KONSUMNAEHE             0.0  float64\n",
      "MIN_GEBAEUDEJAHR            MIN_GEBAEUDEJAHR             0.0  float64\n",
      "OST_WEST_KZ                      OST_WEST_KZ             0.0    int64\n",
      "WOHNLAGE                            WOHNLAGE             0.0  float64\n",
      "KBA05_ANTG1                      KBA05_ANTG1             0.0  float64\n",
      "KBA05_ANTG2                      KBA05_ANTG2             0.0  float64\n",
      "KBA05_ANTG3                      KBA05_ANTG3             0.0  float64\n",
      "KBA05_ANTG4                      KBA05_ANTG4             0.0  float64\n",
      "KBA05_GBZ                          KBA05_GBZ             0.0  float64\n",
      "BALLRAUM                            BALLRAUM             0.0  float64\n",
      "EWDICHTE                            EWDICHTE             0.0  float64\n",
      "INNENSTADT                        INNENSTADT             0.0  float64\n",
      "GEBAEUDETYP_RASTER        GEBAEUDETYP_RASTER             0.0  float64\n",
      "KKK                                      KKK             0.0  float64\n",
      "MOBI_REGIO                        MOBI_REGIO             0.0  float64\n",
      "ONLINE_AFFINITAET          ONLINE_AFFINITAET             0.0  float64\n",
      "REGIOTYP                            REGIOTYP             0.0  float64\n",
      "KBA13_ANZAHL_PKW            KBA13_ANZAHL_PKW             0.0  float64\n",
      "PLZ8_ANTG1                        PLZ8_ANTG1             0.0  float64\n",
      "PLZ8_ANTG2                        PLZ8_ANTG2             0.0  float64\n",
      "PLZ8_ANTG3                        PLZ8_ANTG3             0.0  float64\n",
      "PLZ8_ANTG4                        PLZ8_ANTG4             0.0  float64\n",
      "PLZ8_BAUMAX                      PLZ8_BAUMAX             0.0  float64\n",
      "PLZ8_HHZ                            PLZ8_HHZ             0.0  float64\n",
      "PLZ8_GBZ                            PLZ8_GBZ             0.0  float64\n",
      "ARBEIT                                ARBEIT             0.0  float64\n",
      "ORTSGR_KLS9                      ORTSGR_KLS9             0.0  float64\n",
      "RELAT_AB                            RELAT_AB             0.0  float64\n",
      "CJT_GESAMTTYP_1.0          CJT_GESAMTTYP_1.0             0.0    uint8\n",
      "CJT_GESAMTTYP_2.0          CJT_GESAMTTYP_2.0             0.0    uint8\n",
      "CJT_GESAMTTYP_3.0          CJT_GESAMTTYP_3.0             0.0    uint8\n",
      "CJT_GESAMTTYP_4.0          CJT_GESAMTTYP_4.0             0.0    uint8\n",
      "CJT_GESAMTTYP_5.0          CJT_GESAMTTYP_5.0             0.0    uint8\n",
      "CJT_GESAMTTYP_6.0          CJT_GESAMTTYP_6.0             0.0    uint8\n",
      "FINANZTYP_1                      FINANZTYP_1             0.0    uint8\n",
      "FINANZTYP_2                      FINANZTYP_2             0.0    uint8\n",
      "FINANZTYP_3                      FINANZTYP_3             0.0    uint8\n",
      "FINANZTYP_4                      FINANZTYP_4             0.0    uint8\n",
      "FINANZTYP_5                      FINANZTYP_5             0.0    uint8\n",
      "FINANZTYP_6                      FINANZTYP_6             0.0    uint8\n",
      "GFK_URLAUBERTYP_1.0      GFK_URLAUBERTYP_1.0             0.0    uint8\n",
      "GFK_URLAUBERTYP_2.0      GFK_URLAUBERTYP_2.0             0.0    uint8\n",
      "GFK_URLAUBERTYP_3.0      GFK_URLAUBERTYP_3.0             0.0    uint8\n",
      "GFK_URLAUBERTYP_4.0      GFK_URLAUBERTYP_4.0             0.0    uint8\n",
      "GFK_URLAUBERTYP_5.0      GFK_URLAUBERTYP_5.0             0.0    uint8\n",
      "GFK_URLAUBERTYP_6.0      GFK_URLAUBERTYP_6.0             0.0    uint8\n",
      "GFK_URLAUBERTYP_7.0      GFK_URLAUBERTYP_7.0             0.0    uint8\n",
      "GFK_URLAUBERTYP_8.0      GFK_URLAUBERTYP_8.0             0.0    uint8\n",
      "GFK_URLAUBERTYP_9.0      GFK_URLAUBERTYP_9.0             0.0    uint8\n",
      "GFK_URLAUBERTYP_10.0    GFK_URLAUBERTYP_10.0             0.0    uint8\n",
      "GFK_URLAUBERTYP_11.0    GFK_URLAUBERTYP_11.0             0.0    uint8\n",
      "GFK_URLAUBERTYP_12.0    GFK_URLAUBERTYP_12.0             0.0    uint8\n",
      "LP_FAMILIE_FEIN_1.0      LP_FAMILIE_FEIN_1.0             0.0    uint8\n",
      "LP_FAMILIE_FEIN_2.0      LP_FAMILIE_FEIN_2.0             0.0    uint8\n",
      "LP_FAMILIE_FEIN_3.0      LP_FAMILIE_FEIN_3.0             0.0    uint8\n",
      "LP_FAMILIE_FEIN_4.0      LP_FAMILIE_FEIN_4.0             0.0    uint8\n",
      "LP_FAMILIE_FEIN_5.0      LP_FAMILIE_FEIN_5.0             0.0    uint8\n",
      "LP_FAMILIE_FEIN_6.0      LP_FAMILIE_FEIN_6.0             0.0    uint8\n",
      "LP_FAMILIE_FEIN_7.0      LP_FAMILIE_FEIN_7.0             0.0    uint8\n",
      "LP_FAMILIE_FEIN_8.0      LP_FAMILIE_FEIN_8.0             0.0    uint8\n",
      "LP_FAMILIE_FEIN_9.0      LP_FAMILIE_FEIN_9.0             0.0    uint8\n",
      "LP_FAMILIE_FEIN_10.0    LP_FAMILIE_FEIN_10.0             0.0    uint8\n",
      "LP_FAMILIE_FEIN_11.0    LP_FAMILIE_FEIN_11.0             0.0    uint8\n",
      "LP_FAMILIE_GROB_1.0      LP_FAMILIE_GROB_1.0             0.0    uint8\n",
      "LP_FAMILIE_GROB_2.0      LP_FAMILIE_GROB_2.0             0.0    uint8\n",
      "LP_FAMILIE_GROB_3.0      LP_FAMILIE_GROB_3.0             0.0    uint8\n",
      "LP_FAMILIE_GROB_4.0      LP_FAMILIE_GROB_4.0             0.0    uint8\n",
      "LP_FAMILIE_GROB_5.0      LP_FAMILIE_GROB_5.0             0.0    uint8\n",
      "LP_STATUS_FEIN_1.0        LP_STATUS_FEIN_1.0             0.0    uint8\n",
      "LP_STATUS_FEIN_2.0        LP_STATUS_FEIN_2.0             0.0    uint8\n",
      "LP_STATUS_FEIN_3.0        LP_STATUS_FEIN_3.0             0.0    uint8\n",
      "LP_STATUS_FEIN_4.0        LP_STATUS_FEIN_4.0             0.0    uint8\n",
      "LP_STATUS_FEIN_5.0        LP_STATUS_FEIN_5.0             0.0    uint8\n",
      "LP_STATUS_FEIN_6.0        LP_STATUS_FEIN_6.0             0.0    uint8\n",
      "LP_STATUS_FEIN_7.0        LP_STATUS_FEIN_7.0             0.0    uint8\n",
      "LP_STATUS_FEIN_8.0        LP_STATUS_FEIN_8.0             0.0    uint8\n",
      "LP_STATUS_FEIN_9.0        LP_STATUS_FEIN_9.0             0.0    uint8\n",
      "LP_STATUS_FEIN_10.0      LP_STATUS_FEIN_10.0             0.0    uint8\n",
      "LP_STATUS_GROB_1.0        LP_STATUS_GROB_1.0             0.0    uint8\n",
      "LP_STATUS_GROB_2.0        LP_STATUS_GROB_2.0             0.0    uint8\n",
      "LP_STATUS_GROB_3.0        LP_STATUS_GROB_3.0             0.0    uint8\n",
      "LP_STATUS_GROB_4.0        LP_STATUS_GROB_4.0             0.0    uint8\n",
      "LP_STATUS_GROB_5.0        LP_STATUS_GROB_5.0             0.0    uint8\n",
      "NATIONALITAET_KZ_1.0    NATIONALITAET_KZ_1.0             0.0    uint8\n",
      "NATIONALITAET_KZ_2.0    NATIONALITAET_KZ_2.0             0.0    uint8\n",
      "NATIONALITAET_KZ_3.0    NATIONALITAET_KZ_3.0             0.0    uint8\n",
      "SHOPPER_TYP_0.0              SHOPPER_TYP_0.0             0.0    uint8\n",
      "SHOPPER_TYP_1.0              SHOPPER_TYP_1.0             0.0    uint8\n",
      "SHOPPER_TYP_2.0              SHOPPER_TYP_2.0             0.0    uint8\n",
      "SHOPPER_TYP_3.0              SHOPPER_TYP_3.0             0.0    uint8\n",
      "ZABEOTYP_1                        ZABEOTYP_1             0.0    uint8\n",
      "ZABEOTYP_2                        ZABEOTYP_2             0.0    uint8\n",
      "ZABEOTYP_3                        ZABEOTYP_3             0.0    uint8\n",
      "ZABEOTYP_4                        ZABEOTYP_4             0.0    uint8\n",
      "ZABEOTYP_5                        ZABEOTYP_5             0.0    uint8\n",
      "ZABEOTYP_6                        ZABEOTYP_6             0.0    uint8\n",
      "GEBAEUDETYP_1.0              GEBAEUDETYP_1.0             0.0    uint8\n",
      "GEBAEUDETYP_3.0              GEBAEUDETYP_3.0             0.0    uint8\n",
      "GEBAEUDETYP_5.0              GEBAEUDETYP_5.0             0.0    uint8\n",
      "GEBAEUDETYP_8.0              GEBAEUDETYP_8.0             0.0    uint8\n",
      "CAMEO_DEUG_2015_1          CAMEO_DEUG_2015_1             0.0    uint8\n",
      "CAMEO_DEUG_2015_2          CAMEO_DEUG_2015_2             0.0    uint8\n",
      "CAMEO_DEUG_2015_3          CAMEO_DEUG_2015_3             0.0    uint8\n",
      "CAMEO_DEUG_2015_4          CAMEO_DEUG_2015_4             0.0    uint8\n",
      "CAMEO_DEUG_2015_5          CAMEO_DEUG_2015_5             0.0    uint8\n",
      "CAMEO_DEUG_2015_6          CAMEO_DEUG_2015_6             0.0    uint8\n",
      "CAMEO_DEUG_2015_7          CAMEO_DEUG_2015_7             0.0    uint8\n",
      "CAMEO_DEUG_2015_8          CAMEO_DEUG_2015_8             0.0    uint8\n",
      "CAMEO_DEUG_2015_9          CAMEO_DEUG_2015_9             0.0    uint8\n",
      "decade                                decade             0.0    int64\n",
      "movement                            movement             0.0    int64\n",
      "wealth_level                    wealth_level             0.0    int64\n",
      "lifestage                          lifestage             0.0    int64\n"
     ]
    }
   ],
   "source": [
    "# If you've not yet cleaned the dataset of all NaN values, then investigate and\n",
    "# do that now.\n",
    "\n",
    "show_df_info(df_cleaned)"
   ]
  },
  {
   "cell_type": "code",
   "execution_count": 77,
   "metadata": {},
   "outputs": [
    {
     "data": {
      "text/plain": [
       "array([[-1.7462911 ,  0.97782476, -1.51222382, ...,  0.81988646,\n",
       "         1.14788172, -1.25110753],\n",
       "       [ 0.20210748,  0.97782476, -1.51222382, ..., -1.21968108,\n",
       "        -0.90999737,  0.74982182],\n",
       "       [ 0.20210748, -1.02267813,  0.69240603, ...,  0.81988646,\n",
       "         0.46192202,  0.08284537],\n",
       "       ...,\n",
       "       [-0.77209181,  0.97782476, -1.51222382, ...,  0.81988646,\n",
       "        -0.22403767, -1.25110753],\n",
       "       [-1.7462911 , -1.02267813, -1.51222382, ...,  0.81988646,\n",
       "         1.14788172, -1.25110753],\n",
       "       [ 1.17630677, -1.02267813,  0.69240603, ..., -1.21968108,\n",
       "         0.46192202,  0.08284537]])"
      ]
     },
     "execution_count": 77,
     "metadata": {},
     "output_type": "execute_result"
    }
   ],
   "source": [
    "# Apply feature scaling to the general population demographics data.\n",
    "\n",
    "scaler = StandardScaler()\n",
    "scaler.fit_transform(df_cleaned)"
   ]
  },
  {
   "cell_type": "code",
   "execution_count": null,
   "metadata": {},
   "outputs": [],
   "source": []
  },
  {
   "cell_type": "markdown",
   "metadata": {},
   "source": [
    "### Discussion 2.1: Apply Feature Scaling\n",
    "\n",
    "(Double-click this cell and replace this text with your own text, reporting your decisions regarding feature scaling.)"
   ]
  },
  {
   "cell_type": "markdown",
   "metadata": {},
   "source": [
    "### Step 2.2: Perform Dimensionality Reduction\n",
    "\n",
    "On your scaled data, you are now ready to apply dimensionality reduction techniques.\n",
    "\n",
    "- Use sklearn's [PCA](http://scikit-learn.org/stable/modules/generated/sklearn.decomposition.PCA.html) class to apply principal component analysis on the data, thus finding the vectors of maximal variance in the data. To start, you should not set any parameters (so all components are computed) or set a number of components that is at least half the number of features (so there's enough features to see the general trend in variability).\n",
    "- Check out the ratio of variance explained by each principal component as well as the cumulative variance explained. Try plotting the cumulative or sequential values using matplotlib's [`plot()`](https://matplotlib.org/api/_as_gen/matplotlib.pyplot.plot.html) function. Based on what you find, select a value for the number of transformed features you'll retain for the clustering part of the project.\n",
    "- Once you've made a choice for the number of components to keep, make sure you re-fit a PCA instance to perform the decided-on transformation."
   ]
  },
  {
   "cell_type": "code",
   "execution_count": null,
   "metadata": {},
   "outputs": [],
   "source": [
    "# Apply PCA to the data.\n",
    "\n"
   ]
  },
  {
   "cell_type": "code",
   "execution_count": null,
   "metadata": {},
   "outputs": [],
   "source": [
    "# Investigate the variance accounted for by each principal component.\n",
    "\n"
   ]
  },
  {
   "cell_type": "code",
   "execution_count": null,
   "metadata": {},
   "outputs": [],
   "source": [
    "# Re-apply PCA to the data while selecting for number of components to retain.\n",
    "\n"
   ]
  },
  {
   "cell_type": "markdown",
   "metadata": {},
   "source": [
    "### Discussion 2.2: Perform Dimensionality Reduction\n",
    "\n",
    "(Double-click this cell and replace this text with your own text, reporting your findings and decisions regarding dimensionality reduction. How many principal components / transformed features are you retaining for the next step of the analysis?)"
   ]
  },
  {
   "cell_type": "markdown",
   "metadata": {},
   "source": [
    "### Step 2.3: Interpret Principal Components\n",
    "\n",
    "Now that we have our transformed principal components, it's a nice idea to check out the weight of each variable on the first few components to see if they can be interpreted in some fashion.\n",
    "\n",
    "As a reminder, each principal component is a unit vector that points in the direction of highest variance (after accounting for the variance captured by earlier principal components). The further a weight is from zero, the more the principal component is in the direction of the corresponding feature. If two features have large weights of the same sign (both positive or both negative), then increases in one tend expect to be associated with increases in the other. To contrast, features with different signs can be expected to show a negative correlation: increases in one variable should result in a decrease in the other.\n",
    "\n",
    "- To investigate the features, you should map each weight to their corresponding feature name, then sort the features according to weight. The most interesting features for each principal component, then, will be those at the beginning and end of the sorted list. Use the data dictionary document to help you understand these most prominent features, their relationships, and what a positive or negative value on the principal component might indicate.\n",
    "- You should investigate and interpret feature associations from the first three principal components in this substep. To help facilitate this, you should write a function that you can call at any time to print the sorted list of feature weights, for the *i*-th principal component. This might come in handy in the next step of the project, when you interpret the tendencies of the discovered clusters."
   ]
  },
  {
   "cell_type": "code",
   "execution_count": null,
   "metadata": {},
   "outputs": [],
   "source": [
    "# Map weights for the first principal component to corresponding feature names\n",
    "# and then print the linked values, sorted by weight.\n",
    "# HINT: Try defining a function here or in a new cell that you can reuse in the\n",
    "# other cells.\n",
    "\n"
   ]
  },
  {
   "cell_type": "code",
   "execution_count": null,
   "metadata": {},
   "outputs": [],
   "source": [
    "# Map weights for the second principal component to corresponding feature names\n",
    "# and then print the linked values, sorted by weight.\n",
    "\n"
   ]
  },
  {
   "cell_type": "code",
   "execution_count": null,
   "metadata": {},
   "outputs": [],
   "source": [
    "# Map weights for the third principal component to corresponding feature names\n",
    "# and then print the linked values, sorted by weight.\n",
    "\n"
   ]
  },
  {
   "cell_type": "markdown",
   "metadata": {},
   "source": [
    "### Discussion 2.3: Interpret Principal Components\n",
    "\n",
    "(Double-click this cell and replace this text with your own text, reporting your observations from detailed investigation of the first few principal components generated. Can we interpret positive and negative values from them in a meaningful way?)"
   ]
  },
  {
   "cell_type": "markdown",
   "metadata": {},
   "source": [
    "## Step 3: Clustering\n",
    "\n",
    "### Step 3.1: Apply Clustering to General Population\n",
    "\n",
    "You've assessed and cleaned the demographics data, then scaled and transformed them. Now, it's time to see how the data clusters in the principal components space. In this substep, you will apply k-means clustering to the dataset and use the average within-cluster distances from each point to their assigned cluster's centroid to decide on a number of clusters to keep.\n",
    "\n",
    "- Use sklearn's [KMeans](http://scikit-learn.org/stable/modules/generated/sklearn.cluster.KMeans.html#sklearn.cluster.KMeans) class to perform k-means clustering on the PCA-transformed data.\n",
    "- Then, compute the average difference from each point to its assigned cluster's center. **Hint**: The KMeans object's `.score()` method might be useful here, but note that in sklearn, scores tend to be defined so that larger is better. Try applying it to a small, toy dataset, or use an internet search to help your understanding.\n",
    "- Perform the above two steps for a number of different cluster counts. You can then see how the average distance decreases with an increasing number of clusters. However, each additional cluster provides a smaller net benefit. Use this fact to select a final number of clusters in which to group the data. **Warning**: because of the large size of the dataset, it can take a long time for the algorithm to resolve. The more clusters to fit, the longer the algorithm will take. You should test for cluster counts through at least 10 clusters to get the full picture, but you shouldn't need to test for a number of clusters above about 30.\n",
    "- Once you've selected a final number of clusters to use, re-fit a KMeans instance to perform the clustering operation. Make sure that you also obtain the cluster assignments for the general demographics data, since you'll be using them in the final Step 3.3."
   ]
  },
  {
   "cell_type": "code",
   "execution_count": null,
   "metadata": {},
   "outputs": [],
   "source": [
    "# Over a number of different cluster counts...\n",
    "\n",
    "\n",
    "    # run k-means clustering on the data and...\n",
    "    \n",
    "    \n",
    "    # compute the average within-cluster distances.\n",
    "    \n",
    "    "
   ]
  },
  {
   "cell_type": "code",
   "execution_count": null,
   "metadata": {},
   "outputs": [],
   "source": [
    "# Investigate the change in within-cluster distance across number of clusters.\n",
    "# HINT: Use matplotlib's plot function to visualize this relationship.\n",
    "\n"
   ]
  },
  {
   "cell_type": "code",
   "execution_count": null,
   "metadata": {},
   "outputs": [],
   "source": [
    "# Re-fit the k-means model with the selected number of clusters and obtain\n",
    "# cluster predictions for the general population demographics data.\n",
    "\n"
   ]
  },
  {
   "cell_type": "markdown",
   "metadata": {},
   "source": [
    "### Discussion 3.1: Apply Clustering to General Population\n",
    "\n",
    "(Double-click this cell and replace this text with your own text, reporting your findings and decisions regarding clustering. Into how many clusters have you decided to segment the population?)"
   ]
  },
  {
   "cell_type": "markdown",
   "metadata": {},
   "source": [
    "### Step 3.2: Apply All Steps to the Customer Data\n",
    "\n",
    "Now that you have clusters and cluster centers for the general population, it's time to see how the customer data maps on to those clusters. Take care to not confuse this for re-fitting all of the models to the customer data. Instead, you're going to use the fits from the general population to clean, transform, and cluster the customer data. In the last step of the project, you will interpret how the general population fits apply to the customer data.\n",
    "\n",
    "- Don't forget when loading in the customers data, that it is semicolon (`;`) delimited.\n",
    "- Apply the same feature wrangling, selection, and engineering steps to the customer demographics using the `clean_data()` function you created earlier. (You can assume that the customer demographics data has similar meaning behind missing data patterns as the general demographics data.)\n",
    "- Use the sklearn objects from the general demographics data, and apply their transformations to the customers data. That is, you should not be using a `.fit()` or `.fit_transform()` method to re-fit the old objects, nor should you be creating new sklearn objects! Carry the data through the feature scaling, PCA, and clustering steps, obtaining cluster assignments for all of the data in the customer demographics data."
   ]
  },
  {
   "cell_type": "code",
   "execution_count": null,
   "metadata": {},
   "outputs": [],
   "source": [
    "# Load in the customer demographics data.\n",
    "customers = "
   ]
  },
  {
   "cell_type": "code",
   "execution_count": null,
   "metadata": {},
   "outputs": [],
   "source": [
    "# Apply preprocessing, feature transformation, and clustering from the general\n",
    "# demographics onto the customer data, obtaining cluster predictions for the\n",
    "# customer demographics data.\n",
    "\n"
   ]
  },
  {
   "cell_type": "markdown",
   "metadata": {},
   "source": [
    "### Step 3.3: Compare Customer Data to Demographics Data\n",
    "\n",
    "At this point, you have clustered data based on demographics of the general population of Germany, and seen how the customer data for a mail-order sales company maps onto those demographic clusters. In this final substep, you will compare the two cluster distributions to see where the strongest customer base for the company is.\n",
    "\n",
    "Consider the proportion of persons in each cluster for the general population, and the proportions for the customers. If we think the company's customer base to be universal, then the cluster assignment proportions should be fairly similar between the two. If there are only particular segments of the population that are interested in the company's products, then we should see a mismatch from one to the other. If there is a higher proportion of persons in a cluster for the customer data compared to the general population (e.g. 5% of persons are assigned to a cluster for the general population, but 15% of the customer data is closest to that cluster's centroid) then that suggests the people in that cluster to be a target audience for the company. On the other hand, the proportion of the data in a cluster being larger in the general population than the customer data (e.g. only 2% of customers closest to a population centroid that captures 6% of the data) suggests that group of persons to be outside of the target demographics.\n",
    "\n",
    "Take a look at the following points in this step:\n",
    "\n",
    "- Compute the proportion of data points in each cluster for the general population and the customer data. Visualizations will be useful here: both for the individual dataset proportions, but also to visualize the ratios in cluster representation between groups. Seaborn's [`countplot()`](https://seaborn.pydata.org/generated/seaborn.countplot.html) or [`barplot()`](https://seaborn.pydata.org/generated/seaborn.barplot.html) function could be handy.\n",
    "  - Recall the analysis you performed in step 1.1.3 of the project, where you separated out certain data points from the dataset if they had more than a specified threshold of missing values. If you found that this group was qualitatively different from the main bulk of the data, you should treat this as an additional data cluster in this analysis. Make sure that you account for the number of data points in this subset, for both the general population and customer datasets, when making your computations!\n",
    "- Which cluster or clusters are overrepresented in the customer dataset compared to the general population? Select at least one such cluster and infer what kind of people might be represented by that cluster. Use the principal component interpretations from step 2.3 or look at additional components to help you make this inference. Alternatively, you can use the `.inverse_transform()` method of the PCA and StandardScaler objects to transform centroids back to the original data space and interpret the retrieved values directly.\n",
    "- Perform a similar investigation for the underrepresented clusters. Which cluster or clusters are underrepresented in the customer dataset compared to the general population, and what kinds of people are typified by these clusters?"
   ]
  },
  {
   "cell_type": "code",
   "execution_count": null,
   "metadata": {},
   "outputs": [],
   "source": [
    "# Compare the proportion of data in each cluster for the customer data to the\n",
    "# proportion of data in each cluster for the general population.\n",
    "\n"
   ]
  },
  {
   "cell_type": "code",
   "execution_count": null,
   "metadata": {},
   "outputs": [],
   "source": [
    "# What kinds of people are part of a cluster that is overrepresented in the\n",
    "# customer data compared to the general population?\n",
    "\n"
   ]
  },
  {
   "cell_type": "code",
   "execution_count": null,
   "metadata": {},
   "outputs": [],
   "source": [
    "# What kinds of people are part of a cluster that is underrepresented in the\n",
    "# customer data compared to the general population?\n",
    "\n"
   ]
  },
  {
   "cell_type": "markdown",
   "metadata": {},
   "source": [
    "### Discussion 3.3: Compare Customer Data to Demographics Data\n",
    "\n",
    "(Double-click this cell and replace this text with your own text, reporting findings and conclusions from the clustering analysis. Can we describe segments of the population that are relatively popular with the mail-order company, or relatively unpopular with the company?)"
   ]
  },
  {
   "cell_type": "markdown",
   "metadata": {},
   "source": [
    "> Congratulations on making it this far in the project! Before you finish, make sure to check through the entire notebook from top to bottom to make sure that your analysis follows a logical flow and all of your findings are documented in **Discussion** cells. Once you've checked over all of your work, you should export the notebook as an HTML document to submit for evaluation. You can do this from the menu, navigating to **File -> Download as -> HTML (.html)**. You will submit both that document and this notebook for your project submission."
   ]
  },
  {
   "cell_type": "code",
   "execution_count": null,
   "metadata": {},
   "outputs": [],
   "source": []
  }
 ],
 "metadata": {
  "kernelspec": {
   "display_name": "Python 3",
   "language": "python",
   "name": "python3"
  },
  "language_info": {
   "codemirror_mode": {
    "name": "ipython",
    "version": 3
   },
   "file_extension": ".py",
   "mimetype": "text/x-python",
   "name": "python",
   "nbconvert_exporter": "python",
   "pygments_lexer": "ipython3",
   "version": "3.8.5"
  }
 },
 "nbformat": 4,
 "nbformat_minor": 2
}
